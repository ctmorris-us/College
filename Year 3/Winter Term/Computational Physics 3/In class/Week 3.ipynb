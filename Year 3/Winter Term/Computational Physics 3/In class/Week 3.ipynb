{
 "cells": [
  {
   "cell_type": "code",
   "execution_count": null,
   "metadata": {},
   "outputs": [],
   "source": []
  },
  {
   "cell_type": "code",
   "execution_count": 3,
   "metadata": {},
   "outputs": [],
   "source": [
    "import numpy as np\n",
    "import matplotlib.pyplot as plt\n",
    "import matplotlib.patches as patch"
   ]
  },
  {
   "cell_type": "markdown",
   "metadata": {},
   "source": [
    "Exercise 4.1"
   ]
  },
  {
   "cell_type": "code",
   "execution_count": 48,
   "metadata": {},
   "outputs": [
    {
     "name": "stdout",
     "output_type": "stream",
     "text": [
      "Trials: 137125 Tmin: 1.7366473503343909\n"
     ]
    },
    {
     "data": {
      "image/png": "[encoded data removed]",
      "text/plain": [
       "<Figure size 432x288 with 1 Axes>"
      ]
     },
     "metadata": {
      "needs_background": "light"
     },
     "output_type": "display_data"
    }
   ],
   "source": [
    "C = 1\n",
    "seed = 42\n",
    "np.random.seed(seed)\n",
    "\n",
    "def refr(x, y): # return the refractive index at (x, y)\n",
    "    return np.where(x <= .5, 1, 1.5)\n",
    "    \n",
    "\n",
    "def transit(y):\n",
    "    dy = y[1:] - y[:-1]\n",
    "    xx = .5*(x[1:] + x[:-1])\n",
    "    yy = .5*(y[1:] + y[:-1])\n",
    "    return np.sum(refr(xx, yy) * np.sqrt(dx**2 + dy**2)) / C #Doesn't consider the last element\n",
    "\n",
    "xa = 0\n",
    "xb = 1\n",
    "ya = 0\n",
    "yb = 1\n",
    "\n",
    "N = 21\n",
    "x = np.linspace(xa, xb, N+1)\n",
    "dx = x[1:] - x[:-1]\n",
    "# y = np.linspace(xa, xb, N+1)\n",
    "y = np.zeros((N+1))\n",
    "y[0] = ya\n",
    "y[N] = yb\n",
    "y[1:N] = np.random.uniform(0, 1, N-1)\n",
    "\n",
    "deltay = .1\n",
    "noreduce = 0\n",
    "tcurrent = transit(y)\n",
    "trials = 0\n",
    "maxsuccess = 1000\n",
    "docheck = False\n",
    "\n",
    "while True:\n",
    "    trials += 1\n",
    "    i = np.random.randint(1, N)\n",
    "    y0 = y[i]\n",
    "    y[i] += np.random.uniform(-deltay, deltay)\n",
    "    t = transit(y)\n",
    "\n",
    "    if t < tcurrent: \n",
    "        noreduce = 0\n",
    "        tcurrent = t\n",
    "    else:\n",
    "        y[i] = y0 #Keep the original y\n",
    "        noreduce += 1\n",
    "                \n",
    "    if noreduce >= maxsuccess:\n",
    "        good = True\n",
    "        \n",
    "        if docheck:\n",
    "            for j in range(1, N):\n",
    "                y0 = y[j]\n",
    "                delta = np.random.uniform(-deltay, deltay)\n",
    "\n",
    "                y[j] = y0 + delta\n",
    "                t = transit(y)\n",
    "\n",
    "                if t < tcurrent:\n",
    "                    print('Still can be reduced')\n",
    "                    noreduce = 0\n",
    "                    tcurrent = t\n",
    "                    good = False\n",
    "                    break\n",
    "\n",
    "                y[j] = y0 - delta\n",
    "                t = transit(y) \n",
    "\n",
    "                if t < tcurrent:\n",
    "                    print('Still can be reduced')\n",
    "                    noreduce = 0\n",
    "                    tcurrent = t\n",
    "                    good = False\n",
    "                    break\n",
    "\n",
    "                y[j] = y0\n",
    "        if good:   \n",
    "            break #After 1000 attempts to reduce t have failed\n",
    "    \n",
    "print('Trials:', trials, 'Tmin:', tcurrent)   \n",
    "plt.figure(figsize = (10,10))\n",
    "plt.plot(x,y)\n",
    "plt.show()"
   ]
  },
  {
   "cell_type": "markdown",
   "metadata": {},
   "source": [
    "Exercise 4.2-4.3"
   ]
  },
  {
   "cell_type": "code",
   "execution_count": 4,
   "metadata": {},
   "outputs": [],
   "source": [
    "#Calculate 2-D potential between source charge at xq, yq between the other charges\n",
    "def getPotentialBetween(x, y, q, xq, yq): \n",
    "    #get's dr between the source charge and all other charges (includes source charge)\n",
    "    dr = np.sqrt((x-xq)**2+(y-yq)**2)\n",
    "    \n",
    "    #Gets phi by taking dr and removing the dr = 0 (which is from source charge to source charge)\n",
    "    phi = -K*q[dr>0]*np.log(dr[dr>0])\n",
    "\n",
    "    return np.sum(phi)\n",
    "\n",
    "#Calculates the 2-D Efield at the location of the source charge at xq, yq from the other charges\n",
    "def getEfieldatCharge(x, y, q, xq, yq):\n",
    "    #get's dr between the source charge and all other charges (includes source charge) and rx,ry components\n",
    "    dr2 = (x-xq)**2+(y-yq)**2\n",
    "    rx = (x-xq)\n",
    "    ry = (y-yq)\n",
    "    \n",
    "    #Gets E by taking dr and removing the dr = 0 (which is from source charge to source charge)\n",
    "    #Since in 2-D; V = -kqln(r)  ==>  E = kq/|r| rhat ==>  E = kqr/|r|^2\n",
    "    Ex = np.sum(K*q[dr2>0] * rx[dr2>0] /(dr2[dr2>0]))\n",
    "    Ey = np.sum(K*q[dr2>0] * ry[dr2>0] /(dr2[dr2>0]))\n",
    "    \n",
    "    Emag = np.sqrt(Ex**2 + Ey**2)\n",
    "\n",
    "    return Ex, Ey"
   ]
  },
  {
   "cell_type": "markdown",
   "metadata": {},
   "source": [
    "Exercise 4.2"
   ]
  },
  {
   "cell_type": "code",
   "execution_count": 53,
   "metadata": {},
   "outputs": [
    {
     "ename": "KeyboardInterrupt",
     "evalue": "",
     "output_type": "error",
     "traceback": [
      "\u001b[0;31m---------------------------------------------------------------------------\u001b[0m",
      "\u001b[0;31mKeyboardInterrupt\u001b[0m                         Traceback (most recent call last)",
      "\u001b[0;32m<ipython-input-53-ea51f36efdf5>\u001b[0m in \u001b[0;36m<module>\u001b[0;34m\u001b[0m\n\u001b[1;32m     27\u001b[0m     \u001b[0mydelta\u001b[0m \u001b[0;34m=\u001b[0m \u001b[0mnp\u001b[0m\u001b[0;34m.\u001b[0m\u001b[0mrandom\u001b[0m\u001b[0;34m.\u001b[0m\u001b[0muniform\u001b[0m\u001b[0;34m(\u001b[0m\u001b[0;34m-\u001b[0m\u001b[0mdeltarange\u001b[0m\u001b[0;34m,\u001b[0m \u001b[0mdeltarange\u001b[0m\u001b[0;34m)\u001b[0m\u001b[0;34m\u001b[0m\u001b[0;34m\u001b[0m\u001b[0m\n\u001b[1;32m     28\u001b[0m \u001b[0;34m\u001b[0m\u001b[0m\n\u001b[0;32m---> 29\u001b[0;31m     \u001b[0mpotold\u001b[0m \u001b[0;34m=\u001b[0m \u001b[0mgetPotentialBetween\u001b[0m\u001b[0;34m(\u001b[0m\u001b[0mx\u001b[0m\u001b[0;34m,\u001b[0m \u001b[0my\u001b[0m\u001b[0;34m,\u001b[0m \u001b[0mq\u001b[0m\u001b[0;34m,\u001b[0m \u001b[0mx\u001b[0m\u001b[0;34m[\u001b[0m\u001b[0mcharge\u001b[0m\u001b[0;34m]\u001b[0m\u001b[0;34m,\u001b[0m \u001b[0my\u001b[0m\u001b[0;34m[\u001b[0m\u001b[0mcharge\u001b[0m\u001b[0;34m]\u001b[0m\u001b[0;34m)\u001b[0m\u001b[0;34m\u001b[0m\u001b[0;34m\u001b[0m\u001b[0m\n\u001b[0m\u001b[1;32m     30\u001b[0m \u001b[0;34m\u001b[0m\u001b[0m\n\u001b[1;32m     31\u001b[0m     \u001b[0;31m#Store original x,y values and then update\u001b[0m\u001b[0;34m\u001b[0m\u001b[0;34m\u001b[0m\u001b[0;34m\u001b[0m\u001b[0m\n",
      "\u001b[0;32m<ipython-input-4-ed89c98ed40c>\u001b[0m in \u001b[0;36mgetPotentialBetween\u001b[0;34m(x, y, q, xq, yq)\u001b[0m\n\u001b[1;32m      5\u001b[0m \u001b[0;34m\u001b[0m\u001b[0m\n\u001b[1;32m      6\u001b[0m     \u001b[0;31m#Gets phi by taking dr and removing the dr = 0 (which is from source charge to source charge)\u001b[0m\u001b[0;34m\u001b[0m\u001b[0;34m\u001b[0m\u001b[0;34m\u001b[0m\u001b[0m\n\u001b[0;32m----> 7\u001b[0;31m     \u001b[0mphi\u001b[0m \u001b[0;34m=\u001b[0m \u001b[0;34m-\u001b[0m\u001b[0mK\u001b[0m\u001b[0;34m*\u001b[0m\u001b[0mq\u001b[0m\u001b[0;34m[\u001b[0m\u001b[0mdr\u001b[0m\u001b[0;34m>\u001b[0m\u001b[0;36m0\u001b[0m\u001b[0;34m]\u001b[0m\u001b[0;34m*\u001b[0m\u001b[0mnp\u001b[0m\u001b[0;34m.\u001b[0m\u001b[0mlog\u001b[0m\u001b[0;34m(\u001b[0m\u001b[0mdr\u001b[0m\u001b[0;34m[\u001b[0m\u001b[0mdr\u001b[0m\u001b[0;34m>\u001b[0m\u001b[0;36m0\u001b[0m\u001b[0;34m]\u001b[0m\u001b[0;34m)\u001b[0m\u001b[0;34m\u001b[0m\u001b[0;34m\u001b[0m\u001b[0m\n\u001b[0m\u001b[1;32m      8\u001b[0m \u001b[0;34m\u001b[0m\u001b[0m\n\u001b[1;32m      9\u001b[0m     \u001b[0;32mreturn\u001b[0m \u001b[0mnp\u001b[0m\u001b[0;34m.\u001b[0m\u001b[0msum\u001b[0m\u001b[0;34m(\u001b[0m\u001b[0mphi\u001b[0m\u001b[0;34m)\u001b[0m\u001b[0;34m\u001b[0m\u001b[0;34m\u001b[0m\u001b[0m\n",
      "\u001b[0;31mKeyboardInterrupt\u001b[0m: "
     ]
    }
   ],
   "source": [
    "#Physical Constants\n",
    "K = 9.0e9\n",
    "\n",
    "#Accept-Reject Uniform Points in Circle\n",
    "R = 1\n",
    "N = 1000\n",
    "xbox = np.random.uniform(-R, R, N)\n",
    "ybox = np.random.uniform(-R, R, N)\n",
    "\n",
    "x = xbox[(xbox**2 + ybox**2) < 1]\n",
    "y = ybox[(xbox**2 + ybox**2) < 1]\n",
    "q = np.ones(x.size) * 1e-6\n",
    "numcharges = q.size\n",
    "#Done Initializing Charges\n",
    "\n",
    "#Define Constants\n",
    "deltarange = .01\n",
    "numsuccess = 0\n",
    "maxsuccess = 1000\n",
    "\n",
    "#Start Loop\n",
    "while True:\n",
    "    \n",
    "    #Get charge (index number) and deltas for x and y\n",
    "    charge = np.random.randint(0, numcharges) #Index for charge, not numcharge because random is exclusive\n",
    "    xdelta = np.random.uniform(-deltarange, deltarange)\n",
    "    ydelta = np.random.uniform(-deltarange, deltarange)\n",
    "    \n",
    "    potold = getPotentialBetween(x, y, q, x[charge], y[charge]) \n",
    "\n",
    "    #Store original x,y values and then update\n",
    "    x0 = x[charge]\n",
    "    y0 = y[charge]\n",
    "    x[charge] += xdelta\n",
    "    y[charge] += ydelta\n",
    "    \n",
    "    #If charges are moved beyond a circle this places them back\n",
    "    if (x[charge]**2 + y[charge]**2) > 1:\n",
    "        rmag = np.sqrt(x[charge]**2 + y[charge]**2)\n",
    "        x[charge] = x[charge]/rmag  #If R != 1 then need to reconfigure this\n",
    "        y[charge] = y[charge]/rmag\n",
    "    \n",
    "    potnew = getPotentialBetween(x, y, q, x[charge], y[charge])\n",
    "    if potnew < potold: #The shift decreased the potential\n",
    "        numsuccess = 0\n",
    "    else:\n",
    "        numsuccess += 1\n",
    "        x[charge] = x0\n",
    "        y[charge] = y0      \n",
    "        \n",
    "    #If failed to decrease the potential after 1000 success tries\n",
    "    if numsuccess >= maxsuccess:\n",
    "        break #Simulation is done\n",
    "    \n",
    "plt.figure(figsize = (10,10))\n",
    "plt.plot(x,y, 'k.')\n",
    "plt.show()"
   ]
  },
  {
   "cell_type": "markdown",
   "metadata": {},
   "source": [
    "Exercise 4.3"
   ]
  },
  {
   "cell_type": "code",
   "execution_count": 56,
   "metadata": {},
   "outputs": [
    {
     "data": {
      "image/png": "[encoded data removed]",
      "text/plain": [
       "<Figure size 720x720 with 1 Axes>"
      ]
     },
     "metadata": {
      "needs_background": "light"
     },
     "output_type": "display_data"
    },
    {
     "ename": "KeyboardInterrupt",
     "evalue": "",
     "output_type": "error",
     "traceback": [
      "\u001b[0;31m---------------------------------------------------------------------------\u001b[0m",
      "\u001b[0;31mKeyboardInterrupt\u001b[0m                         Traceback (most recent call last)",
      "\u001b[0;32m<ipython-input-56-06a801a9c131>\u001b[0m in \u001b[0;36m<module>\u001b[0;34m\u001b[0m\n\u001b[1;32m     46\u001b[0m \u001b[0;34m\u001b[0m\u001b[0m\n\u001b[1;32m     47\u001b[0m     \u001b[0mpotold\u001b[0m \u001b[0;34m=\u001b[0m \u001b[0mgetPotentialBetween\u001b[0m\u001b[0;34m(\u001b[0m\u001b[0mx\u001b[0m\u001b[0;34m,\u001b[0m \u001b[0my\u001b[0m\u001b[0;34m,\u001b[0m \u001b[0mq\u001b[0m\u001b[0;34m,\u001b[0m \u001b[0mx\u001b[0m\u001b[0;34m[\u001b[0m\u001b[0mcharge\u001b[0m\u001b[0;34m]\u001b[0m\u001b[0;34m,\u001b[0m \u001b[0my\u001b[0m\u001b[0;34m[\u001b[0m\u001b[0mcharge\u001b[0m\u001b[0;34m]\u001b[0m\u001b[0;34m)\u001b[0m\u001b[0;34m\u001b[0m\u001b[0;34m\u001b[0m\u001b[0m\n\u001b[0;32m---> 48\u001b[0;31m     \u001b[0mEx\u001b[0m\u001b[0;34m,\u001b[0m \u001b[0mEy\u001b[0m \u001b[0;34m=\u001b[0m \u001b[0mgetEfieldatCharge\u001b[0m\u001b[0;34m(\u001b[0m\u001b[0mx\u001b[0m\u001b[0;34m,\u001b[0m \u001b[0my\u001b[0m\u001b[0;34m,\u001b[0m \u001b[0mq\u001b[0m\u001b[0;34m,\u001b[0m \u001b[0mx\u001b[0m\u001b[0;34m[\u001b[0m\u001b[0mcharge\u001b[0m\u001b[0;34m]\u001b[0m\u001b[0;34m,\u001b[0m \u001b[0my\u001b[0m\u001b[0;34m[\u001b[0m\u001b[0mcharge\u001b[0m\u001b[0;34m]\u001b[0m\u001b[0;34m)\u001b[0m\u001b[0;34m\u001b[0m\u001b[0;34m\u001b[0m\u001b[0m\n\u001b[0m\u001b[1;32m     49\u001b[0m     \u001b[0;31m#Store original x,y values and then update\u001b[0m\u001b[0;34m\u001b[0m\u001b[0;34m\u001b[0m\u001b[0;34m\u001b[0m\u001b[0m\n\u001b[1;32m     50\u001b[0m     \u001b[0mx0\u001b[0m \u001b[0;34m=\u001b[0m \u001b[0mx\u001b[0m\u001b[0;34m[\u001b[0m\u001b[0mcharge\u001b[0m\u001b[0;34m]\u001b[0m\u001b[0;34m\u001b[0m\u001b[0;34m\u001b[0m\u001b[0m\n",
      "\u001b[0;32m<ipython-input-4-ed89c98ed40c>\u001b[0m in \u001b[0;36mgetEfieldatCharge\u001b[0;34m(x, y, q, xq, yq)\u001b[0m\n\u001b[1;32m     19\u001b[0m     \u001b[0;31m#Since in 2-D; V = -kqln(r)  ==>  E = kq/|r| rhat ==>  E = kqr/|r|^2\u001b[0m\u001b[0;34m\u001b[0m\u001b[0;34m\u001b[0m\u001b[0;34m\u001b[0m\u001b[0m\n\u001b[1;32m     20\u001b[0m     \u001b[0mEx\u001b[0m \u001b[0;34m=\u001b[0m \u001b[0mnp\u001b[0m\u001b[0;34m.\u001b[0m\u001b[0msum\u001b[0m\u001b[0;34m(\u001b[0m\u001b[0mK\u001b[0m\u001b[0;34m*\u001b[0m\u001b[0mq\u001b[0m\u001b[0;34m[\u001b[0m\u001b[0mdr2\u001b[0m\u001b[0;34m>\u001b[0m\u001b[0;36m0\u001b[0m\u001b[0;34m]\u001b[0m \u001b[0;34m*\u001b[0m \u001b[0mrx\u001b[0m\u001b[0;34m[\u001b[0m\u001b[0mdr2\u001b[0m\u001b[0;34m>\u001b[0m\u001b[0;36m0\u001b[0m\u001b[0;34m]\u001b[0m \u001b[0;34m/\u001b[0m\u001b[0;34m(\u001b[0m\u001b[0mdr2\u001b[0m\u001b[0;34m[\u001b[0m\u001b[0mdr2\u001b[0m\u001b[0;34m>\u001b[0m\u001b[0;36m0\u001b[0m\u001b[0;34m]\u001b[0m\u001b[0;34m)\u001b[0m\u001b[0;34m)\u001b[0m\u001b[0;34m\u001b[0m\u001b[0;34m\u001b[0m\u001b[0m\n\u001b[0;32m---> 21\u001b[0;31m     \u001b[0mEy\u001b[0m \u001b[0;34m=\u001b[0m \u001b[0mnp\u001b[0m\u001b[0;34m.\u001b[0m\u001b[0msum\u001b[0m\u001b[0;34m(\u001b[0m\u001b[0mK\u001b[0m\u001b[0;34m*\u001b[0m\u001b[0mq\u001b[0m\u001b[0;34m[\u001b[0m\u001b[0mdr2\u001b[0m\u001b[0;34m>\u001b[0m\u001b[0;36m0\u001b[0m\u001b[0;34m]\u001b[0m \u001b[0;34m*\u001b[0m \u001b[0mry\u001b[0m\u001b[0;34m[\u001b[0m\u001b[0mdr2\u001b[0m\u001b[0;34m>\u001b[0m\u001b[0;36m0\u001b[0m\u001b[0;34m]\u001b[0m \u001b[0;34m/\u001b[0m\u001b[0;34m(\u001b[0m\u001b[0mdr2\u001b[0m\u001b[0;34m[\u001b[0m\u001b[0mdr2\u001b[0m\u001b[0;34m>\u001b[0m\u001b[0;36m0\u001b[0m\u001b[0;34m]\u001b[0m\u001b[0;34m)\u001b[0m\u001b[0;34m)\u001b[0m\u001b[0;34m\u001b[0m\u001b[0;34m\u001b[0m\u001b[0m\n\u001b[0m\u001b[1;32m     22\u001b[0m \u001b[0;34m\u001b[0m\u001b[0m\n\u001b[1;32m     23\u001b[0m     \u001b[0mEmag\u001b[0m \u001b[0;34m=\u001b[0m \u001b[0mnp\u001b[0m\u001b[0;34m.\u001b[0m\u001b[0msqrt\u001b[0m\u001b[0;34m(\u001b[0m\u001b[0mEx\u001b[0m\u001b[0;34m**\u001b[0m\u001b[0;36m2\u001b[0m \u001b[0;34m+\u001b[0m \u001b[0mEy\u001b[0m\u001b[0;34m**\u001b[0m\u001b[0;36m2\u001b[0m\u001b[0;34m)\u001b[0m\u001b[0;34m\u001b[0m\u001b[0;34m\u001b[0m\u001b[0m\n",
      "\u001b[0;31mKeyboardInterrupt\u001b[0m: "
     ]
    }
   ],
   "source": [
    "#Physical Constants\n",
    "K = 9.0e9\n",
    "\n",
    "#Accept-Reject Uniform Points in Circle\n",
    "R = 4\n",
    "a = 4\n",
    "b = 1\n",
    "N = 1000\n",
    "x = np.array([])\n",
    "y = np.array([])\n",
    "\n",
    "def getepsilon(x,y,a,b):\n",
    "    return (x/a)**2 + (y/b)**2\n",
    "\n",
    "while True:\n",
    "    n = N - x.size\n",
    "    \n",
    "    xbox = np.random.uniform(-R, R, n)\n",
    "    ybox = np.random.uniform(-R, R, n)\n",
    "    \n",
    "    x = np.concatenate((x, xbox[((xbox/a)**2 + (ybox/b)**2) < 1]), axis = 0)\n",
    "    y = np.concatenate((y, ybox[((xbox/a)**2 + (ybox/b)**2) < 1]), axis = 0)\n",
    "    \n",
    "    if n == 0:\n",
    "        break\n",
    "        \n",
    "plt.figure(figsize = (10,10))\n",
    "plt.plot(x,y, 'k.')\n",
    "plt.show()\n",
    "\n",
    "q = np.ones(x.size) * 1e-6\n",
    "numcharges = q.size\n",
    "#Done Initializing Charges\n",
    "\n",
    "#Define Constants\n",
    "deltarange = .1\n",
    "numsuccess = 0\n",
    "maxsuccess = 1000\n",
    "\n",
    "#Start Loop\n",
    "while True:\n",
    "    \n",
    "    #Get charge (index number) and deltas for x and y\n",
    "    charge = np.random.randint(0, numcharges) #Index for charge, not numcharge because random is exclusive\n",
    "    delta = np.random.uniform(-deltarange, deltarange)\n",
    "    \n",
    "    potold = getPotentialBetween(x, y, q, x[charge], y[charge]) \n",
    "    Ex, Ey = getEfieldatCharge(x, y, q, x[charge], y[charge])\n",
    "    #Store original x,y values and then update\n",
    "    x0 = x[charge]\n",
    "    y0 = y[charge]\n",
    "    x[charge] += delta*Ex\n",
    "    y[charge] += delta*Ey\n",
    "    \n",
    "    #If charges are moved beyond a circle this places them back\n",
    "    if ((x[charge]/a)**2 + (y[charge]/a)**2) >= 1:\n",
    "        eps0 = getepsilon(x0, y0, a, b)\n",
    "        eps1 = getepsilon(x[charge], y[charge], a, b)\n",
    "        \n",
    "        xnew = -eps0 * (x[charge] - x0)/(eps1 - eps0) + x0 \n",
    "        ynew = -eps0 * (y[charge] - y0)/(eps1 - eps0) + y0 \n",
    "        \n",
    "        x[charge] = xnew  #If R != 1 then need to reconfigure this\n",
    "        y[charge] = ynew\n",
    "    \n",
    "    potnew = getPotentialBetween(x, y, q, x[charge], y[charge])\n",
    "    if potnew < potold: #The shift decreased the potential\n",
    "        numsuccess = 0\n",
    "    else:\n",
    "        numsuccess += 1\n",
    "        x[charge] = x0\n",
    "        y[charge] = y0      \n",
    "        \n",
    "    #If failed to decrease the potential after 1000 success tries\n",
    "    if numsuccess >= maxsuccess:\n",
    "        break #Simulation is done\n",
    "    \n",
    "plt.figure(figsize = (10,10))\n",
    "plt.plot(x,y, 'k.')\n",
    "plt.show()"
   ]
  },
  {
   "cell_type": "code",
   "execution_count": 38,
   "metadata": {},
   "outputs": [],
   "source": [
    "b = Exercise4_3()\n",
    "b.step()"
   ]
  },
  {
   "cell_type": "code",
   "execution_count": 86,
   "metadata": {},
   "outputs": [],
   "source": [
    "R = 1\n",
    "N = 1000\n",
    "x = np.array([])\n",
    "y = np.array([])\n",
    "\n",
    "while True:\n",
    "    n = N - x.size\n",
    "    \n",
    "    xbox = np.random.uniform(-R, R, n)\n",
    "    ybox = np.random.uniform(-R, R, n)\n",
    "    \n",
    "    x = np.concatenate((x, xbox[(xbox**2 + ybox**2) < 1]), axis = 0)\n",
    "    y = np.concatenate((y, ybox[(xbox**2 + ybox**2) < 1]), axis = 0)\n",
    "    \n",
    "    if n == 0:\n",
    "        break\n",
    "\n",
    "\n"
   ]
  },
  {
   "cell_type": "code",
   "execution_count": null,
   "metadata": {},
   "outputs": [],
   "source": []
  },
  {
   "cell_type": "code",
   "execution_count": 72,
   "metadata": {},
   "outputs": [
    {
     "data": {
      "text/plain": [
       "(800,)"
      ]
     },
     "execution_count": 72,
     "metadata": {},
     "output_type": "execute_result"
    }
   ],
   "source": [
    "y.shape"
   ]
  },
  {
   "cell_type": "code",
   "execution_count": 10,
   "metadata": {},
   "outputs": [
    {
     "data": {
      "text/plain": [
       "array([1., 1., 1.])"
      ]
     },
     "execution_count": 10,
     "metadata": {},
     "output_type": "execute_result"
    }
   ],
   "source": [
    "np.ones(3)"
   ]
  },
  {
   "cell_type": "code",
   "execution_count": 61,
   "metadata": {},
   "outputs": [],
   "source": [
    "a = np.array([1,3,7,10])"
   ]
  },
  {
   "cell_type": "code",
   "execution_count": 62,
   "metadata": {},
   "outputs": [
    {
     "data": {
      "text/plain": [
       "array([2, 4, 3])"
      ]
     },
     "execution_count": 62,
     "metadata": {},
     "output_type": "execute_result"
    }
   ],
   "source": [
    "a[1:] - a[:-1]"
   ]
  },
  {
   "cell_type": "code",
   "execution_count": 45,
   "metadata": {},
   "outputs": [
    {
     "data": {
      "text/plain": [
       "array([0.  , 0.05, 0.1 , 0.15, 0.2 , 0.25, 0.3 , 0.35, 0.4 , 0.45, 0.5 ,\n",
       "       0.55, 0.6 , 0.65, 0.7 , 0.75, 0.8 , 0.85, 0.9 , 0.95, 1.  ])"
      ]
     },
     "execution_count": 45,
     "metadata": {},
     "output_type": "execute_result"
    }
   ],
   "source": [
    "x"
   ]
  },
  {
   "cell_type": "code",
   "execution_count": null,
   "metadata": {},
   "outputs": [],
   "source": []
  },
  {
   "cell_type": "code",
   "execution_count": 92,
   "metadata": {},
   "outputs": [
    {
     "name": "stdout",
     "output_type": "stream",
     "text": [
      "initial t = 8.450050603130258\n",
      "tmin = 2.144827673238291 trials = 106187 count = 1000\n"
     ]
    },
    {
     "data": {
      "image/png": "[encoded data removed]",
      "text/plain": [
       "<Figure size 432x288 with 1 Axes>"
      ]
     },
     "metadata": {
      "needs_background": "light"
     },
     "output_type": "display_data"
    }
   ],
   "source": [
    "N = 20\n",
    "seed = 42\n",
    "C = 1.0\n",
    "xmin = 0.0\n",
    "xmax = 1.0\n",
    "\n",
    "def refr(x, y):\n",
    "    if x <= 0.5:\n",
    "        return 1.0\n",
    "    else:\n",
    "        return 1.5\n",
    "\n",
    "def transit(x, y):\n",
    "    t = 0.0\n",
    "    for i in range(len(x)-1):\n",
    "        xx = 0.5*(x[i]+x[i+1])\n",
    "        yy = 0.5*(y[i]+y[i+1])\n",
    "        ni = refr(xx, yy)\n",
    "        dx = x[i+1] - x[i]\n",
    "        dy = y[i+1] - y[i]\n",
    "        ds = math.sqrt(dx*dx + dy*dy)\n",
    "        t += ni*ds/C\n",
    "    return t\n",
    "\n",
    "np.random.seed(seed)\n",
    "\n",
    "# Initialize the path from (0,0) to (1,1).\n",
    "\n",
    "x = np.linspace(xmin, xmax, N+1)\n",
    "y = np.linspace(xmin, xmax, N+1)\n",
    "t = transit(x, y)\n",
    "print('initial t =', t)\n",
    "tmin = t\n",
    "\n",
    "# Loop until tmin doesn't decrease for a specified number of trials.\n",
    "\n",
    "deltay = 0.1\t\t\t# 1./N\n",
    "trials = 0\n",
    "count = 0\n",
    "while count < 1000:\t\t# 100*N:\n",
    "\n",
    "    # Randomly change one point between 1 and N-1 (y[0], y[N] are fixed).\n",
    "\n",
    "    trials += 1\n",
    "    i = np.random.randint(1, N-1)\n",
    "\n",
    "    y0 = y[i]\n",
    "    y[i] += np.random.uniform(-deltay, deltay)\n",
    "    t = transit(x, y)\n",
    "\n",
    "    if t < tmin:\t\t# accept\n",
    "        count = 0\n",
    "        tmin = t\n",
    "    else:\t\t\t\t# discard\n",
    "        y[i] = y0\n",
    "        count += 1\n",
    "\n",
    "print('tmin =', tmin, 'trials =', trials, 'count =', count)\n",
    "plt.plot(x, y)\n",
    "plt.show()"
   ]
  },
  {
   "cell_type": "code",
   "execution_count": 15,
   "metadata": {},
   "outputs": [
    {
     "data": {
      "text/plain": [
       "array([1., 1., 1.])"
      ]
     },
     "execution_count": 15,
     "metadata": {},
     "output_type": "execute_result"
    }
   ],
   "source": [
    "np.ones(3)"
   ]
  },
  {
   "cell_type": "code",
   "execution_count": 21,
   "metadata": {},
   "outputs": [],
   "source": [
    "a = np.array([.5, 1])\n",
    "b = np.array([2.5, 3])\n",
    "ep0 = (a[0]/2)**2 + (a[1])**2\n",
    "ep1 = (b[0]/2)**2 + (b[1])**2"
   ]
  },
  {
   "cell_type": "code",
   "execution_count": 23,
   "metadata": {},
   "outputs": [
    {
     "data": {
      "text/plain": [
       "array([0.27631579, 0.77631579])"
      ]
     },
     "execution_count": 23,
     "metadata": {},
     "output_type": "execute_result"
    }
   ],
   "source": [
    "r = a + -ep0 * (b-a)/(ep1 - ep0)\n",
    "r"
   ]
  },
  {
   "cell_type": "code",
   "execution_count": 24,
   "metadata": {},
   "outputs": [
    {
     "data": {
      "text/plain": [
       "[<matplotlib.lines.Line2D at 0x11d6c47f0>]"
      ]
     },
     "execution_count": 24,
     "metadata": {},
     "output_type": "execute_result"
    },
    {
     "data": {
      "image/png": "[encoded data removed]",
      "text/plain": [
       "<Figure size 432x288 with 1 Axes>"
      ]
     },
     "metadata": {
      "needs_background": "light"
     },
     "output_type": "display_data"
    }
   ],
   "source": [
    "plt.plot(a,'ro')\n",
    "plt.plot(b,'bo')\n",
    "plt.plot(r, 'k*')"
   ]
  },
  {
   "cell_type": "code",
   "execution_count": 25,
   "metadata": {},
   "outputs": [
    {
     "data": {
      "text/plain": [
       "array([0.27631579, 0.77631579])"
      ]
     },
     "execution_count": 25,
     "metadata": {},
     "output_type": "execute_result"
    }
   ],
   "source": [
    "r"
   ]
  },
  {
   "cell_type": "code",
   "execution_count": 28,
   "metadata": {},
   "outputs": [
    {
     "data": {
      "text/plain": [
       "[<matplotlib.lines.Line2D at 0x11ce31438>]"
      ]
     },
     "execution_count": 28,
     "metadata": {},
     "output_type": "execute_result"
    },
    {
     "data": {
      "image/png": "[encoded data removed]",
      "text/plain": [
       "<Figure size 432x288 with 1 Axes>"
      ]
     },
     "metadata": {
      "needs_background": "light"
     },
     "output_type": "display_data"
    }
   ],
   "source": [
    "plt.plot(a[0],a[1],'ro')\n",
    "plt.plot(b[0],b[1],'bo')\n",
    "plt.plot(r[0],r[1], 'k*')"
   ]
  },
  {
   "cell_type": "code",
   "execution_count": 42,
   "metadata": {},
   "outputs": [
    {
     "data": {
      "image/png": "[encoded data removed]",
      "text/plain": [
       "<Figure size 432x288 with 1 Axes>"
      ]
     },
     "metadata": {
      "needs_background": "light"
     },
     "output_type": "display_data"
    }
   ],
   "source": [
    "fig = plt.figure()\n",
    "ax = plt.axes(xlim=(0, 2), ylim=(-2, 2))\n",
    "line, = ax.plot([], [], lw=2)"
   ]
  },
  {
   "cell_type": "code",
   "execution_count": 41,
   "metadata": {},
   "outputs": [
    {
     "data": {
      "text/plain": [
       "[<matplotlib.lines.Line2D at 0x117458eb8>]"
      ]
     },
     "execution_count": 41,
     "metadata": {},
     "output_type": "execute_result"
    }
   ],
   "source": [
    "line"
   ]
  },
  {
   "cell_type": "code",
   "execution_count": 43,
   "metadata": {},
   "outputs": [
    {
     "data": {
      "text/plain": [
       "<matplotlib.lines.Line2D at 0x118e08c50>"
      ]
     },
     "execution_count": 43,
     "metadata": {},
     "output_type": "execute_result"
    }
   ],
   "source": [
    "line"
   ]
  },
  {
   "cell_type": "code",
   "execution_count": null,
   "metadata": {},
   "outputs": [],
   "source": []
  },
  {
   "cell_type": "code",
   "execution_count": 51,
   "metadata": {},
   "outputs": [
    {
     "data": {
      "text/plain": [
       "(1,)"
      ]
     },
     "execution_count": 51,
     "metadata": {},
     "output_type": "execute_result"
    }
   ],
   "source": [
    "hi()"
   ]
  },
  {
   "cell_type": "code",
   "execution_count": null,
   "metadata": {},
   "outputs": [],
   "source": []
  }
 ],
 "metadata": {
  "kernelspec": {
   "display_name": "Python 3",
   "language": "python",
   "name": "python3"
  },
  "language_info": {
   "codemirror_mode": {
    "name": "ipython",
    "version": 3
   },
   "file_extension": ".py",
   "mimetype": "text/x-python",
   "name": "python",
   "nbconvert_exporter": "python",
   "pygments_lexer": "ipython3",
   "version": "3.7.3"
  }
 },
 "nbformat": 4,
 "nbformat_minor": 4
}
