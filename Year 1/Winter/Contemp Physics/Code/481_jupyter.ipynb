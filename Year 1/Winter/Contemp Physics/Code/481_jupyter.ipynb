{
 "cells": [
  {
   "cell_type": "code",
   "execution_count": 59,
   "metadata": {},
   "outputs": [],
   "source": [
    "\n",
    "from amuse.lab import units, Particles, Particle, SeBa, nbody_system, ph4, constants, Kepler\n",
    "from amuse.ext.orbital_elements import new_binary_from_orbital_elements, orbital_elements_from_binary, generate_binaries, rel_posvel_arrays_from_orbital_elements\n",
    "# from amuse.community.kepler.interface import initialize_from_elements\n",
    "from amuse.community.kepler.interface import KeplerInterface\n",
    "import numpy\n",
    "import matplotlib.pyplot as plt\n",
    "\n",
    "\n",
    "# stellar.parameters.RGB_wind_scheme = 0\n",
    "# stellar.parameters.AGB_wind_scheme = 0\n",
    "# stellar.particles[i].mass_change = dmdt\n",
    "# dmdt = -2.e-2 | units.MSun/units.yr\n",
    "\n",
    "def orbital_period(a, Mtot):\n",
    "    return 2*numpy.pi*(a**3/(constants.G*Mtot)).sqrt()\n",
    "\n",
    "def semimajor_axis(P, Mtot):\n",
    "    return (constants.G*Mtot*P**2/(4*numpy.pi**2))**(1./3)\n",
    "\n",
    "def initialize_particles():\n",
    "    particles = Particles(3)\n",
    "    star_1 = particles[0]\n",
    "    star_1.mass = 40.2|units.MSun\n",
    "    star_1.radius = 45|units.RSun\n",
    "    star_1.luminosity = 5.1e5 | units.LSun\n",
    "    star_1.temperature = 2e4 | units.K\n",
    "    star_1.mass_change = -1.1e-5 |units.MSun/units.yr\n",
    "    star_1.wind_scheme = 2000 |units.km/units.s\n",
    "\n",
    "    star_2 = particles[1]\n",
    "    star_2.mass = 28.7|units.MSun\n",
    "    star_2.radius = 13|units.RSun\n",
    "    star_2.luminosity = 1.8e5| units.LSun\n",
    "    star_2.temperature = 3.3e4| units.K\n",
    "    star_2.mass_change = -4.2e-7 |units.MSun/units.yr\n",
    "    star_2.wind_scheme = 1000 |units.km/units.s\n",
    "\n",
    "    star_3 = particles[2]\n",
    "    star_3.mass = 19.8|units.MSun\n",
    "    star_3.radius = 7.9|units.RSun\n",
    "    star_3.luminosity = 5.8e4| units.LSun\n",
    "    star_3.temperature = 3.2e4| units.K\n",
    "    star_3.mass_change = -4.9e-8 |units.MSun/units.yr\n",
    "    star_3.wind_scheme = 1000 |units.km/units.s\n",
    "\n",
    "    stellar = SeBa()\n",
    "    stellar.particles.add_particle(star_1)\n",
    "    stellar.particles.add_particle(star_2)\n",
    "    stellar.particles.add_particle(star_3)\n",
    "\n",
    "    stellar.parameters.metallicity = .2\n",
    "\n",
    "    converter = nbody_system.nbody_to_si(1|units.AU, 1|units.MSun)\n",
    "\n",
    "    period = 19|units.day\n",
    "    semi_major = semimajor_axis(period, star_1.mass + star_2.mass)\n",
    "    \n",
    "    binary1_2 = new_binary_from_orbital_elements(star_1.mass , star_2.mass, semi_major, .2, G = constants.G)\n",
    "#     binary1_3 = new_binary_from_orbital_elements(binary1_2.mass.sum(), star_3.mass, 100|units.au, .6, G = constants.G)\n",
    "    \n",
    "    \n",
    "#     binary1_2 = Kepler(converter)\n",
    "#     binary1_2.initialize_from_elements(mass = star_1.mass + star_2.mass, semi = semi_major, ecc = .2, mean_anomaly = 180)\n",
    "\n",
    "#     binary1_3 = Kepler(converter)\n",
    "    pos_vec, vel_vec = rel_posvel_arrays_from_orbital_elements(star_1.mass + star_2.mass, \n",
    "                                                               star_3.mass, 100|units.au, eccentricity = .6, \n",
    "                                                               inclination = 60,\n",
    "                                                               argument_of_periapsis = 180,\n",
    "                                                               G = constants.G)\n",
    "    \n",
    "#     pos_vec = binary1_3.get_separation_vector()\n",
    "#     vel_vec = binary1_3.get_velocity_vector()\n",
    "    \n",
    "    star_1.position = binary1_2[0].position\n",
    "    star_2.position = binary1_2[1].position\n",
    "    \n",
    "    star_1.velocity = binary1_2[0].velocity\n",
    "    star_2.velocity = binary1_2[1].velocity\n",
    "    \n",
    "    particles.move_to_center()\n",
    "    \n",
    "    star_3.position = binary1_2.center_of_mass() + pos_vec[0]\n",
    "    star_3.velocity = binary1_2.center_of_mass_velocity() + vel_vec[0]\n",
    "    \n",
    "    particles.move_to_center()\n",
    "#     star_1.position = (0,0,0)|units.au\n",
    "#     star_2.position = (binary1_2.get_separation_vector())\n",
    "#     star_3.position = (binary1_3.get_separation_vector())\n",
    "\n",
    "#     star_1.velocity = (0,0,0)|units.kms\n",
    "#     star_2.velocity = binary1_2.get_velocity_vector()\n",
    "#     star_3.velocity = binary1_3.get_velocity_vector()\n",
    "    \n",
    "    gravity = ph4(converter, number_of_workers = 32, mode = \"GPU\")\n",
    "    gravity.particles.add_particles(particles)\n",
    "    \n",
    "    return (gravity, stellar, particles)\n",
    "\n",
    "#Update to get inclination"
   ]
  },
  {
   "cell_type": "code",
   "execution_count": 19,
   "metadata": {},
   "outputs": [],
   "source": [
    "def get_elements(stars):\n",
    "    binary1_2 = Particles()\n",
    "    binary1_2.add_particle(stars[0])\n",
    "    binary1_2.add_particle(stars[1])\n",
    "    \n",
    "    binary1_3 = Particles(1)\n",
    "    binary1_3[0].mass = binary1_2.mass.sum()\n",
    "    binary1_3[0].position = binary1_2.center_of_mass()\n",
    "    binary1_3[0].velocity = binary1_2.center_of_mass_velocity()\n",
    "    binary1_3.add_particle(stars[2])\n",
    "    \n",
    "    M1, M2, ain, ein, ta_in, inc_in, lan_in, aop_in \\\n",
    "        = orbital_elements_from_binary(binary1_2, G=constants.G)\n",
    "    M12, M3, aout, eout, ta_out, outc_out, lan_out, aop_out \\\n",
    "        = orbital_elements_from_binary(binary1_3, G=constants.G)\n",
    "    return ain, ein, aout, eout"
   ]
  },
  {
   "cell_type": "code",
   "execution_count": 61,
   "metadata": {},
   "outputs": [],
   "source": [
    "def evolve_stellar_gravity(max_delta_mass, tmax, dt):\n",
    "\n",
    "    while stellar.model_time < tmax:\n",
    "\n",
    "        inital_mass = particles.total_mass()\n",
    "        stellar.evolve_model(stellar.model_time + dt)\n",
    "        channel_from_stellar_to_gravity.copy()\n",
    "        \n",
    "        gravity.evolve_model(gravity.model_time + dt)\n",
    "        channel_from_gravity_to_stellar.copy()\n",
    "        channel_from_stellar_to_framework.copy()\n",
    "        \n",
    "#         channel_from_gravity_to_binary1_2.copy()\n",
    "#         channel_from_gravity_to_binary1_3.copy()\n",
    "        \n",
    "#         delta_mass = inital_mass - particles.total_mass()\n",
    "\n",
    "#         if delta_mass < max_delta_mass:\n",
    "#             dt += .2|units.yr\n",
    "#         elif (delta_mass > max_delta_mass):\n",
    "#             dt -= .2|units.yr \n",
    "#         else:\n",
    "#             print('good')\n",
    "        \n",
    "        semimajor12, ecc12, semimajor13, ecc13 = get_elements(particles)\n",
    "        binary1_2_semimajor.append(semimajor12)\n",
    "        binary1_2_eccentricity.append(ecc12)\n",
    "#         temp_inclination = inclination\n",
    "        \n",
    "        \n",
    "        binary1_3_semimajor.append(semimajor13)\n",
    "        binary1_3_eccentricity.append(ecc13)\n",
    "#         relative_inclination.append(abs(temp_inclination - inclination))\n",
    "        \n",
    "        time.append(gravity.model_time)\n",
    "    \n"
   ]
  },
  {
   "cell_type": "code",
   "execution_count": 57,
   "metadata": {},
   "outputs": [],
   "source": [
    "def plot_elements(dt):\n",
    "    global binary1_2_semimajor, binary1_3_semimajor, binary1_2_eccentricity, binary1_3_eccentricity, semimajor\n",
    "    plt.figure()\n",
    "    binary1_2_semimajor /= binary1_2_semimajor[0].value_in(units.m)\n",
    "    binary1_3_semimajor /= binary1_3_semimajor[0].value_in(units.m)\n",
    "    \n",
    "    binary1_2_eccentricity /= binary1_2_eccentricity[0]\n",
    "    binary1_3_eccentricity /= binary1_3_eccentricity[0]\n",
    "    \n",
    "    plt.plot(time.value_in(units.yr), binary1_2_semimajor.value_in(units.m), 'r-', label = '12')\n",
    "    plt.plot(time.value_in(units.yr), binary1_3_semimajor.value_in(units.m), 'b-', label = '13')\n",
    "    plt.title('semi_major for dt: {}'.format(dt))\n",
    "    plt.legend()\n",
    "    \n",
    "    plt.figure()\n",
    "    plt.plot(time.value_in(units.yr), binary1_2_eccentricity, 'r-', label = '12')\n",
    "    plt.plot(time.value_in(units.yr), binary1_3_eccentricity, 'b-', label = '13')\n",
    "    plt.title('eccentricity for dt: {}'.format(dt))\n",
    "    plt.legend()\n",
    "#     plt.figure()\n",
    "#     plt.plot(time.value_in(units.yr), relative_inclination)\n",
    "#     plt.title('relative inclination for dt: {}'.format(dt))\n",
    "    "
   ]
  },
  {
   "cell_type": "code",
   "execution_count": 63,
   "metadata": {},
   "outputs": [
    {
     "data": {
      "image/png": "[encoded data removed]",
      "text/plain": [
       "<matplotlib.figure.Figure at 0x111159cf8>"
      ]
     },
     "metadata": {},
     "output_type": "display_data"
    },
    {
     "data": {
      "image/png": "[encoded data removed]",
      "text/plain": [
       "<matplotlib.figure.Figure at 0x110fbe2b0>"
      ]
     },
     "metadata": {},
     "output_type": "display_data"
    }
   ],
   "source": [
    "max_delta_mass = 1e-6|units.MSun\n",
    "tmax = 4|units.yr\n",
    "dt = .1|units.yr\n",
    "\n",
    "time = []|units.yr\n",
    "\n",
    "binary1_2_semimajor = []|units.m\n",
    "binary1_3_semimajor = []|units.m\n",
    "\n",
    "binary1_2_eccentricity = []\n",
    "binary1_3_eccentricity = []\n",
    "\n",
    "relative_inclination = []\n",
    "\n",
    "gravity, stellar, particles = initialize_particles()\n",
    "\n",
    "# binary1_2 = Particles()\n",
    "# binary1_3 = Particles()\n",
    "\n",
    "# binary1_2.add_particle(particles[0])\n",
    "# binary1_2.add_particle(particles[1])\n",
    "\n",
    "# binary1_3.add_particle(particles[0])\n",
    "# binary1_3.add_particle(particles[2])\n",
    "\n",
    "# kep_binary1_2 = Kepler(converter)\n",
    "# kep_binary1_3 = Kepler(converter)\n",
    "\n",
    "# kep_binary1_2.initialize_from_particles(temp_binary1_2)\n",
    "# kep_binary1_3.initialize_from_particles(temp_binary1_3)\n",
    "\n",
    "channel_from_gravity_to_framework = gravity.particles.new_channel_to(particles)\n",
    "channel_from_gravity_to_stellar   = gravity.particles.new_channel_to(stellar.particles)\n",
    "channel_from_stellar_to_framework = stellar.particles.new_channel_to(particles)\n",
    "channel_from_stellar_to_gravity   = stellar.particles.new_channel_to(gravity.particles)\n",
    "# channel_from_gravity_to_binary1_2 = gravity.particles.new_channel_to(binary1_2)\n",
    "# channel_from_gravity_to_binary1_3 = gravity.particles.new_channel_to(binary1_3)\n",
    "\n",
    "evolve_stellar_gravity(max_delta_mass, tmax, dt)\n",
    "stellar.stop()\n",
    "gravity.stop()\n",
    "plot_elements(dt)\n"
   ]
  },
  {
   "cell_type": "code",
   "execution_count": null,
   "metadata": {},
   "outputs": [],
   "source": []
  },
  {
   "cell_type": "code",
   "execution_count": null,
   "metadata": {},
   "outputs": [],
   "source": [
    "\n",
    "\n"
   ]
  },
  {
   "cell_type": "code",
   "execution_count": 135,
   "metadata": {},
   "outputs": [
    {
     "name": "stdout",
     "output_type": "stream",
     "text": [
      "[0.333333333333, 0.666666666667, 1.0] m\n"
     ]
    }
   ],
   "source": [
    "binary1_2_semimajor = []|units.m\n",
    "binary1_2_semimajor.append(1|units.m)\n",
    "binary1_2_semimajor.append(2|units.m)\n",
    "binary1_2_semimajor.append(3|units.m)\n",
    "\n",
    "binary1_2_semimajor /= binary1_2_semimajor[2].value_in(units.m)\n",
    "print(binary1_2_semimajor)"
   ]
  },
  {
   "cell_type": "code",
   "execution_count": null,
   "metadata": {},
   "outputs": [],
   "source": [
    "# binary1_2[0].position\n",
    "\n",
    "\n",
    "# binary1_2[1].position\n",
    "\n",
    "\n",
    "\n",
    "# binary1_3 = new_binary_from_orbital_elements(star_1.mass + star_1.mass, star_3.mass, semi_major.value_in(units.au) + 100|units.au, eccentricity = .6,\n",
    "#                                             true_anomaly= 180, argument_of_periapsis= 180, inclination = 60, G = constants.G)\n",
    "\n",
    "\n",
    "\n",
    "# binary1_3[0].position\n",
    "\n",
    "# binary1_3[1].position"
   ]
  },
  {
   "cell_type": "code",
   "execution_count": null,
   "metadata": {},
   "outputs": [],
   "source": [
    "help(new_binary_from_orbital_elements)"
   ]
  },
  {
   "cell_type": "code",
   "execution_count": null,
   "metadata": {},
   "outputs": [],
   "source": [
    "help(KeplerInterface)"
   ]
  },
  {
   "cell_type": "code",
   "execution_count": null,
   "metadata": {},
   "outputs": [],
   "source": [
    "help(Kepler)"
   ]
  },
  {
   "cell_type": "code",
   "execution_count": null,
   "metadata": {},
   "outputs": [],
   "source": [
    "help(orbital_elements_from_binary)"
   ]
  },
  {
   "cell_type": "code",
   "execution_count": 80,
   "metadata": {},
   "outputs": [],
   "source": [
    "l = [1,2,3,4,5]\n",
    "a, b = l[2], l[3]"
   ]
  },
  {
   "cell_type": "code",
   "execution_count": 175,
   "metadata": {},
   "outputs": [],
   "source": [
    "a = numpy.array([(1,2,3),(4,5,6), (7,8,9)])\n",
    "b = numpy.array([(1,2,3),(4,5,6), (7,8,9)])\n",
    "\n"
   ]
  },
  {
   "cell_type": "code",
   "execution_count": 52,
   "metadata": {},
   "outputs": [
    {
     "data": {
      "text/plain": [
       "[]"
      ]
     },
     "execution_count": 52,
     "metadata": {},
     "output_type": "execute_result"
    }
   ],
   "source": [
    "particles = Particles(3)\n",
    "star_1 = particles[0]\n",
    "star_1.mass = 40|units.MSun\n",
    "star_1.radius = 45|units.RSun\n",
    "star_1.luminosity = 5.1e5 | units.LSun\n",
    "star_1.temperature = 2e4 | units.K\n",
    "star_1.mass_change = -1.1e-5 |units.MSun/units.yr\n",
    "star_1.wind_scheme = 2000 |units.km/units.s\n",
    "\n",
    "star_2 = particles[1]\n",
    "star_2.mass = 29|units.MSun\n",
    "star_2.radius = 13|units.RSun\n",
    "star_2.luminosity = 1.8e5| units.LSun\n",
    "star_2.temperature = 3.3e4| units.K\n",
    "star_2.mass_change = -4.2e-7 |units.MSun/units.yr\n",
    "star_2.wind_scheme = 1000 |units.km/units.s\n",
    "\n",
    "star_3 = particles[2]\n",
    "star_3.mass = 20|units.MSun\n",
    "star_3.radius = 7.9|units.RSun\n",
    "star_3.luminosity = 5.8e4| units.LSun\n",
    "star_3.temperature = 3.2e4| units.K\n",
    "star_3.mass_change = -4.9e-8 |units.MSun/units.yr\n",
    "star_3.wind_scheme = 1000 |units.km/units.s\n",
    "\n",
    "converter = nbody_system.nbody_to_si(1|units.AU, 1|units.MSun)\n",
    "\n",
    "period = 19|units.day\n",
    "semi_major = semimajor_axis(period, star_1.mass + star_2.mass)\n",
    "\n",
    "binary12_test1 = new_binary_from_orbital_elements(star_1.mass , star_2.mass, semi_major, .2, G = constants.G)\n",
    "binary12_kep = Kepler(converter)\n",
    "\n",
    "binary12_kep.initialize_from_elements(mass = star_1.mass + star_2.mass, semi = semi_major, ecc = .2)\n"
   ]
  },
  {
   "cell_type": "code",
   "execution_count": 53,
   "metadata": {},
   "outputs": [
    {
     "name": "stdout",
     "output_type": "stream",
     "text": [
      "0.00347910064767 (1.48472082432e+40 * m**3)**0.3333333333333333\n"
     ]
    }
   ],
   "source": [
    "M1, M2, ain, ein, ta_in, inc_in, lan_in, aop_in \\\n",
    "        = orbital_elements_from_binary(binary12_test1, G=constants.G)\n",
    "acc, ecc = binary12_kep.get_elements()\n",
    "\n",
    "# print(binary12_test1[1].position - binary12_test1[0].position)\n",
    "#print(binary12_kep.get_separation_vector())\n",
    "# print(0.00278328051813*24578097721331.34)\n",
    "#print(binary12_test1[0].position)\n",
    "print(semi_major)"
   ]
  },
  {
   "cell_type": "code",
   "execution_count": null,
   "metadata": {},
   "outputs": [],
   "source": [
    "# a = generate_binaries(star_1.mass, star_2.mass, semi_major, eccentricity = .2, argument_of_periapsis= 180, G = constants.G)\n",
    "# # b = generate_binaries(star_1.mass + star_2.mass, )"
   ]
  },
  {
   "cell_type": "code",
   "execution_count": null,
   "metadata": {},
   "outputs": [],
   "source": [
    "#Code Graveyard:\n",
    "#binary1_2 = new_binary_from_orbital_elements(star_1.mass, star_2.mass, semi_major, eccentricity = .2, \n",
    "#                                            true_anomaly =  180, argument_of_periapsis = 180, G = constants.G)\n",
    "\n",
    "#binar1_2_kep = Kepler((star_1.mass + star_2.mass).value_in(units.kg), semi = semi_major.value_in(units.km), ecc = .2) #mean_anomaly = 180|units.deg, periastron\n"
   ]
  }
 ],
 "metadata": {
  "kernelspec": {
   "display_name": "Python 3",
   "language": "python",
   "name": "python3"
  },
  "language_info": {
   "codemirror_mode": {
    "name": "ipython",
    "version": 3
   },
   "file_extension": ".py",
   "mimetype": "text/x-python",
   "name": "python",
   "nbconvert_exporter": "python",
   "pygments_lexer": "ipython3",
   "version": "3.6.4"
  }
 },
 "nbformat": 4,
 "nbformat_minor": 2
}
