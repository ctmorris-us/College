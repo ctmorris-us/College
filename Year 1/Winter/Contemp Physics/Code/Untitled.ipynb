{
 "cells": [
  {
   "cell_type": "code",
   "execution_count": 4,
   "metadata": {},
   "outputs": [],
   "source": [
    "from vpython import *"
   ]
  },
  {
   "cell_type": "code",
   "execution_count": 5,
   "metadata": {},
   "outputs": [],
   "source": [
    "def F_B1(v, q):\n",
    "    B = vec(0,0,1)\n",
    "    return cross(q*v, B)\n",
    "\n",
    "def F_B2(v, q):\n",
    "    B = vec(1,1,1)\n",
    "    return cross(q*v, B)\n",
    "\n",
    "def F_E(v, q):\n",
    "    E = vec(0,1,0)\n",
    "    return q*E\n",
    "\n",
    "def Simulate(Function, particle):\n",
    "    t = 0\n",
    "    dt = .001\n",
    "    while t < 10:\n",
    "        particle.acceleration = Function(particle.velocity, particle.charge) * particle.mass\n",
    "        particle.velocity += particle.acceleration * dt\n",
    "        particle.position += particle.velocity * dt\n",
    "        t += dt\n"
   ]
  },
  {
   "cell_type": "code",
   "execution_count": 6,
   "metadata": {},
   "outputs": [],
   "source": [
    "m, q = 1, 1\n",
    "r0 = vec(0,0,0)\n",
    "v0 = vec(3,0,0)\n",
    "\n",
    "colors_list = [color.red, color.blue, color.magenta, color.orange]\n",
    "\n",
    "def restart(attempt, particle):\n",
    "    particle.color = colors_list[attempt]\n",
    "    \n",
    "particle = sphere(position = r0, radius = 1, mass = m, \n",
    "                  charge = q, velocity = v0, acceleration = vec(0,0,0), color = color.green, make_trail = True)\n",
    "\n",
    "restart(0, particle)\n",
    "Simulate(F_B1, particle)"
   ]
  },
  {
   "cell_type": "code",
   "execution_count": null,
   "metadata": {},
   "outputs": [],
   "source": [
    "\n",
    "        "
   ]
  },
  {
   "cell_type": "code",
   "execution_count": null,
   "metadata": {},
   "outputs": [],
   "source": []
  }
 ],
 "metadata": {
  "kernelspec": {
   "display_name": "Python 3",
   "language": "python",
   "name": "python3"
  },
  "language_info": {
   "codemirror_mode": {
    "name": "ipython",
    "version": 3
   },
   "file_extension": ".py",
   "mimetype": "text/x-python",
   "name": "python",
   "nbconvert_exporter": "python",
   "pygments_lexer": "ipython3",
   "version": "3.6.4"
  }
 },
 "nbformat": 4,
 "nbformat_minor": 2
}
