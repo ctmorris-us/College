{
 "cells": [
  {
   "cell_type": "markdown",
   "metadata": {},
   "source": [
    "Introduction to Computational Physics Midterm\n",
    "\n",
    "Name: Christopher Morris\n",
    "\n",
    "Date: May 9, 2019"
   ]
  },
  {
   "cell_type": "code",
   "execution_count": 6,
   "metadata": {},
   "outputs": [],
   "source": [
    "\n",
    "# Template program for the simple integration scheme\n",
    "\n",
    "import math, sys\n",
    "import matplotlib.pyplot as plt\n",
    "import numpy as np\n",
    "\n",
    "def interp(x0, y0, x1, y1, x=None, y=None):\n",
    "    if y == None:\n",
    "        return y0 + (y1 - y0) * (x - x0) / (x1 - x0)\n",
    "    elif x == None:\n",
    "        return (y-y0) * (x1 - x0) / (y1 - y0) + x0\n",
    "\n",
    "def acc(k, x, v, t):\n",
    "    # acceleration\n",
    "    return -K*math.sinh(x)                   \n",
    "\n",
    "def potential(k, x):\n",
    "    # potential: MUST be consistent with acc!\n",
    "    return K*(math.cosh(x) - 1)                  \n",
    "\n",
    "def energy(k, x, v):\n",
    "    return potential(k, x) + 0.5*v*v\n",
    "\n",
    "def output(K, x, v, t, E0):\n",
    "    pass\n",
    "    #print (t, x, v, energy(K, x,v) - E0)\n",
    "\n",
    "def take_a_step(k, x, v, t, dt):\n",
    "    # Set the acceleration.\n",
    "    a = acc(k, x, v, t)\n",
    "\n",
    "    # Take the step.\n",
    "    xp = x\n",
    "    x += v*dt + 0.5*a*dt*dt\n",
    "    v += a*dt\n",
    "    \n",
    "    af = acc(k, x, v, t+dt)\n",
    "    xf = x + v*dt + .5*a*dt*dt\n",
    "    \n",
    "    return x, xp, xf, v\n",
    "\n",
    "def find_zero(x, xp):\n",
    "    if (xp < 0) and (x >= 0):\n",
    "        zeros_list.append(interp(t-dt, xp, t, x, y=0))\n",
    "        zeros.append(0)\n",
    "    if (xp > 0) and (x <= 0):\n",
    "        zeros_list.append(interp(t-dt, xp, t, x, y=0))\n",
    "        zeros.append(0)\n",
    "\n",
    "def check_max(xp, x, xf, t):\n",
    "    if (xp < x) and (xf <= x):\n",
    "        max_list.append(x)\n",
    "        max_time_list.append(t)\n",
    "\n",
    "    \n",
    "\n",
    "# Declaration and initialization.\n",
    "\n",
    "K  = 4\n",
    "t  = 0.0\n",
    "x  = 0\n",
    "xp = x\n",
    "v  = 2\n",
    "dt = .01\n",
    "tmax = 1.473173473356929\n",
    "\n",
    "zeros_list = [0]\n",
    "zeros = [0]\n",
    "\n",
    "max_list = []\n",
    "max_time_list = []\n",
    "\n",
    "numerical_list = [0]\n",
    "time_list = [0]\n",
    "\n",
    "E0 = energy(K, x, v)\n",
    "output(K, x, v, t, E0)\n",
    "\n",
    "# Integrate the motion to the specified time.\n",
    "E0 = energy(K, x, v)\n",
    "dEmax = 0\n",
    "while (t < tmax + dt):\n",
    "    x, xp, xf, v = take_a_step(K, x, v, t, dt)\n",
    "    \n",
    "    numerical_list.append(x)\n",
    "    time_list.append(t)\n",
    "    \n",
    "    find_zero(x, xp)\n",
    "    check_max(xp, x, xf, t)\n",
    "    \n",
    "    dE = abs(energy(K, x, v) - E0)\n",
    "    if dE > dEmax:\n",
    "        dEmax = dE\n",
    "\n",
    "    t += dt\n",
    "    #x += dx\n",
    "    output(K, x, v, t, E0)  \n",
    "    \n",
    "\n",
    "    "
   ]
  },
  {
   "cell_type": "code",
   "execution_count": 7,
   "metadata": {},
   "outputs": [
    {
     "name": "stdout",
     "output_type": "stream",
     "text": [
      "1) T for the first returning zero is t = 1.473173473356929\n",
      "First max within the interval 0<t<T is x = 0.9700858029678198\n"
     ]
    },
    {
     "data": {
      "text/plain": [
       "<matplotlib.legend.Legend at 0x105be8a20>"
      ]
     },
     "execution_count": 7,
     "metadata": {},
     "output_type": "execute_result"
    },
    {
     "data": {
      "image/png": "[encoded data removed]",
      "text/plain": [
       "<matplotlib.figure.Figure at 0x110872710>"
      ]
     },
     "metadata": {},
     "output_type": "display_data"
    }
   ],
   "source": [
    "print('1) T for the first returning zero is t = {}'.format(tmax))\n",
    "print('First max within the interval 0<t<T is x = {}'.format(max_list[0]))\n",
    "plt.plot(time_list, numerical_list, 'k-')\n",
    "plt.plot(max_time_list, max_list, 'go', label = 'max')\n",
    "plt.title('1) x vs t: Simple Integration Scheme')\n",
    "plt.xlabel('t')\n",
    "plt.ylabel('x')\n",
    "plt.legend()\n",
    "plt.legend(bbox_to_anchor=(1,1))"
   ]
  },
  {
   "cell_type": "code",
   "execution_count": 8,
   "metadata": {},
   "outputs": [
    {
     "name": "stdout",
     "output_type": "stream",
     "text": [
      "Max energy error: 0.0703    dt = 0.01\n",
      "Max energy error: 0.0344    dt = 0.005\n",
      "Max energy error: 0.0171    dt = 0.0025\n",
      "Max energy error: 0.0085    dt = 0.00125\n",
      "Max energy error: 0.0042    dt = 0.000625\n",
      "Max energy error: 0.0021    dt = 0.0003125\n",
      "Max energy error: 0.0011    dt = 0.00015625\n",
      "Max energy error: 0.0005    dt = 7.8125e-05\n",
      "Max energy error: 0.0003    dt = 3.90625e-05\n",
      "Max energy error: 0.0001    dt = 1.953125e-05\n",
      "Max energy error: 0.0001    dt = 9.765625e-06\n",
      "2) Optimal dt = 9.765625e-06\n"
     ]
    }
   ],
   "source": [
    "dEmax = 1\n",
    "dt = .01\n",
    "while (dEmax >= 1e-4):\n",
    "    K  = 4\n",
    "    t  = 0.0\n",
    "    x  = 0\n",
    "    xp = x\n",
    "    v  = 2\n",
    "    tmax = 1.473173473356929\n",
    "\n",
    "    zeros_list = [0]\n",
    "    zeros = [0]\n",
    "\n",
    "    max_list = []\n",
    "    max_time_list = []\n",
    "\n",
    "    numerical_list = [0]\n",
    "    time_list = [0]\n",
    "\n",
    "    E0 = energy(K, x, v)\n",
    "    output(K, x, v, t, E0)\n",
    "\n",
    "    # Integrate the motion to the specified time.\n",
    "    E0 = energy(K, x, v)\n",
    "    dEmax = 0\n",
    "    while (t < tmax + dt):\n",
    "        x, xp, xf, v = take_a_step(K, x, v, t, dt)\n",
    "\n",
    "        numerical_list.append(x)\n",
    "        time_list.append(t)\n",
    "\n",
    "        find_zero(x, xp)\n",
    "        check_max(xp, x, xf, t)\n",
    "\n",
    "        dE = abs(energy(K, x, v) - E0)\n",
    "        if dE > dEmax:\n",
    "            dEmax = dE\n",
    "\n",
    "        t += dt\n",
    "    print('Max energy error: {:.4f}    dt = {}'.format(dEmax, dt))\n",
    "    dt /= 2\n",
    "    \n",
    "print('2) Optimal dt = {}'.format(dt*2))"
   ]
  },
  {
   "cell_type": "code",
   "execution_count": 9,
   "metadata": {},
   "outputs": [],
   "source": [
    "def check_intersection(x1, x2, t):\n",
    "    if abs(x1 - x2) <= .00006: #Picked this value because anylower and the points weren't found intersecting\n",
    "        intersection_x.append((x1+x2)/2) #Used Midpoint to make the answer more exact\n",
    "        intersection_t.append(t)\n",
    "\n",
    "        \n",
    "# Declaration and initialization.\n",
    "\n",
    "K  = 4\n",
    "t  = 0.0\n",
    "x1 = 0\n",
    "x2 = 0\n",
    "v1 = 5\n",
    "v2 = -3\n",
    "dt = 9.765625e-06\n",
    "tmax = 1.473173473356929\n",
    "\n",
    "zeros_list = [0]\n",
    "zeros = [0]\n",
    "\n",
    "max_list = []\n",
    "max_time_list = []\n",
    "\n",
    "numerical_list_x1 = [0]\n",
    "numerical_list_x2 = [0]\n",
    "\n",
    "time_list = [0]\n",
    "\n",
    "intersection_x = []\n",
    "intersection_t = []\n",
    "\n",
    "E0 = energy(K, x, v)\n",
    "output(K, x, v, t, E0)\n",
    "\n",
    "# Integrate the motion to the specified time.\n",
    "E0 = energy(K, x, v)\n",
    "dEmax = 0\n",
    "while (t < tmax + dt):\n",
    "    x1, xp, xf, v1 = take_a_step(K, x1, v1, t, dt)\n",
    "    x2, xp, xf, v2 = take_a_step(K, x2, v2, t, dt)\n",
    "    \n",
    "    numerical_list_x1.append(x1)\n",
    "    numerical_list_x2.append(x2)\n",
    "    \n",
    "    check_intersection(x1, x2, t)\n",
    "    \n",
    "    time_list.append(t)\n",
    "    t += dt\n",
    "    \n",
    "    \n",
    "\n"
   ]
  },
  {
   "cell_type": "code",
   "execution_count": 10,
   "metadata": {},
   "outputs": [
    {
     "name": "stdout",
     "output_type": "stream",
     "text": [
      "3) The particles intersect at approx. x = -0.32806313933099385 at t = 1.290351562498968\n"
     ]
    },
    {
     "data": {
      "text/plain": [
       "<matplotlib.legend.Legend at 0x11092cd68>"
      ]
     },
     "execution_count": 10,
     "metadata": {},
     "output_type": "execute_result"
    },
    {
     "data": {
      "image/png": "[encoded data removed]",
      "text/plain": [
       "<matplotlib.figure.Figure at 0x1108d9a20>"
      ]
     },
     "metadata": {},
     "output_type": "display_data"
    }
   ],
   "source": [
    "print('3) The particles intersect at approx. x = {} at t = {}'.format(intersection_x[1], intersection_t[1]))\n",
    "plt.plot(time_list, numerical_list_x1, 'k-', label = 'Particle 1')\n",
    "plt.plot(time_list, numerical_list_x2, 'g-', label = 'Particle 2')\n",
    "plt.plot(intersection_t[1], intersection_x[1], 'bo')\n",
    "plt.title('3) x1 and x2 vs t')\n",
    "plt.xlabel('t')\n",
    "plt.ylabel('x')\n",
    "plt.legend()\n",
    "plt.legend(bbox_to_anchor=(1,1))"
   ]
  },
  {
   "cell_type": "code",
   "execution_count": null,
   "metadata": {},
   "outputs": [],
   "source": []
  },
  {
   "cell_type": "code",
   "execution_count": null,
   "metadata": {},
   "outputs": [],
   "source": []
  }
 ],
 "metadata": {
  "kernelspec": {
   "display_name": "Python 3",
   "language": "python",
   "name": "python3"
  },
  "language_info": {
   "codemirror_mode": {
    "name": "ipython",
    "version": 3
   },
   "file_extension": ".py",
   "mimetype": "text/x-python",
   "name": "python",
   "nbconvert_exporter": "python",
   "pygments_lexer": "ipython3",
   "version": "3.6.4"
  }
 },
 "nbformat": 4,
 "nbformat_minor": 2
}
