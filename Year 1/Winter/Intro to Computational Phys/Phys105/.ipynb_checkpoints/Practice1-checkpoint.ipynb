{
 "cells": [
  {
   "cell_type": "code",
   "execution_count": 1,
   "metadata": {},
   "outputs": [
    {
     "name": "stdout",
     "output_type": "stream",
     "text": [
      "Hello Philadelphia!\n"
     ]
    }
   ],
   "source": [
    "print(\"Hello Philadelphia!\")\n"
   ]
  },
  {
   "cell_type": "code",
   "execution_count": 2,
   "metadata": {},
   "outputs": [
    {
     "name": "stdout",
     "output_type": "stream",
     "text": [
      "numbers = ->    3.3000<-, -> 0.96<-, -> 1067<-\n"
     ]
    }
   ],
   "source": [
    "a = 3.3\n",
    "b = 0.96\n",
    "c = 1067\n",
    "\n",
    "print ('numbers = ->{0:10.4f}<-, ->{1:5.2f}<-, ->{2:5d}<-'.format(a, b, c))\n"
   ]
  },
  {
   "cell_type": "code",
   "execution_count": 3,
   "metadata": {},
   "outputs": [
    {
     "name": "stdout",
     "output_type": "stream",
     "text": [
      "from a range: 0\n",
      "from a range: 1\n",
      "from a range: 2\n",
      "\n",
      "from a list: 0\n",
      "from a list: -1\n",
      "from a list: 2\n",
      "from a list: 4\n"
     ]
    }
   ],
   "source": [
    "for i in range(3):\n",
    "    print(\"from a range: {}\".format(i))\n",
    "\n",
    "print(\"\")\n",
    "\n",
    "for i in [0,-1,2,4]:\n",
    "    print(\"from a list: {}\".format(i))\n",
    "    "
   ]
  },
  {
   "cell_type": "code",
   "execution_count": 4,
   "metadata": {},
   "outputs": [
    {
     "name": "stdout",
     "output_type": "stream",
     "text": [
      "in a while: 0\n",
      "in a while: 1\n",
      "in a while: 2\n",
      "in a while: 3\n",
      "in a while: 4\n",
      "\n",
      "in an infinite loop\n",
      "out of the infinite loop\n"
     ]
    }
   ],
   "source": [
    "i=0\n",
    "while i < 5:\n",
    "    print(\"in a while: {}\".format(i))\n",
    "    i = i+1\n",
    "\n",
    "print(\"\")\n",
    "\n",
    "while True:\n",
    "    print(\"in an infinite loop\")\n",
    "    break\n",
    "    \n",
    "print(\"out of the infinite loop\")"
   ]
  },
  {
   "cell_type": "code",
   "execution_count": 5,
   "metadata": {},
   "outputs": [
    {
     "name": "stdout",
     "output_type": "stream",
     "text": [
      "  Using i with value: 8\n",
      "x<10\n",
      "  now running helloxy with: 8 and returning 21\n",
      "  Using i with value: 13\n",
      "x>10 and x<20\n",
      "  now running helloxy with: 13 and returning 26\n",
      "  Using i with value: 18\n",
      "x>10 and x<20\n",
      "  now running helloxy with: 18 and returning 31\n",
      "  Using i with value: 23\n",
      "x>20\n",
      "  now running helloxy with: 23 and returning 36\n"
     ]
    }
   ],
   "source": [
    "def helloxy(x,y):\n",
    "    if (x<10):\n",
    "        print(\"x<10\")\n",
    "    elif (x<20):\n",
    "        print(\"x>10 and x<20\")\n",
    "    else:\n",
    "        print(\"x>20\")\n",
    "    return x+y\n",
    "\n",
    "\n",
    "# USE THE FUNCTION\n",
    "for i in range(8, 25, 5):\n",
    "    print(\"  Using i with value: {}\".format(i))\n",
    "    \n",
    "    # INVOKE THE FUNCTION\n",
    "    s = helloxy(i,13)\n",
    "    print(\"  now running helloxy with: {} and returning {}\".format(i,s))"
   ]
  },
  {
   "cell_type": "code",
   "execution_count": 6,
   "metadata": {},
   "outputs": [
    {
     "name": "stdout",
     "output_type": "stream",
     "text": [
      "0.0 0.0 0.0 0.0\n",
      "0.1 0.46415923961652317 0.31622776601683794 0.21544330364427847\n",
      "0.2 0.5848038613776577 0.4472135954999579 0.34199500586204745\n",
      "0.30000000000000004 0.6694332187419122 0.5477225575051662 0.4481402948061046\n",
      "0.4 0.7368065247710396 0.6324555320336759 0.5428833575059597\n",
      "0.5 0.7937007093678815 0.7071067811865476 0.6299603793956662\n",
      "0.6000000000000001 0.843432808917434 0.7745966692414834 0.7113785397678736\n",
      "0.7000000000000001 0.887904107306977 0.8366600265340756 0.7883734225795033\n",
      "0.8 0.9283178357719327 0.8944271909999159 0.8617738119129948\n",
      "0.9 0.9654894185137834 0.9486832980505138 0.9321697190481963\n"
     ]
    }
   ],
   "source": [
    "import math\n",
    "\n",
    "for i in range(0,10):\n",
    "    x = 0.1*i\n",
    "    print (x, x**0.333333, math.sqrt(x), math.pow(x, 0.666667))\n"
   ]
  },
  {
   "cell_type": "code",
   "execution_count": 7,
   "metadata": {},
   "outputs": [],
   "source": [
    "import numpy as np \n"
   ]
  },
  {
   "cell_type": "code",
   "execution_count": 8,
   "metadata": {},
   "outputs": [
    {
     "name": "stdout",
     "output_type": "stream",
     "text": [
      "the a array is: ['hey' 'you' '!']\n",
      "element is hey\n",
      "element is you\n",
      "element is !\n",
      "index=0 has value hey\n",
      "index=1 has value you\n",
      "index=2 has value !\n",
      "dimension of a is (3,)\n"
     ]
    }
   ],
   "source": [
    "# NUMPY ARRAYS\n",
    "a = np.array( [\"hey\", \"you\"] )\n",
    "a = np.append( a, \"!\" )\n",
    "print(\"the a array is: {}\".format(a))\n",
    "\n",
    "# PRINT EACH ELEMENT\n",
    "for i in a:\n",
    "    print(\"element is {}\".format(i))\n",
    "    \n",
    "# PRINT WITH INDEX\n",
    "for i,j in enumerate(a):\n",
    "    print(\"index={} has value {}\".format(i,j))\n",
    "    \n",
    "print(\"dimension of a is {}\".format( a.shape ))"
   ]
  },
  {
   "cell_type": "code",
   "execution_count": 9,
   "metadata": {},
   "outputs": [
    {
     "name": "stdout",
     "output_type": "stream",
     "text": [
      "ave = 11.271428571428572\n",
      "max = 14.0\n",
      "argmax = 5\n",
      "size = 7\n",
      "dimension of b is (7,)\n"
     ]
    }
   ],
   "source": [
    "# NUMPY ARRAY FUNCTIONS\n",
    "b = np.array( [10,11,9,10.5,11.4,14,13] )\n",
    "\n",
    "# AVERAGE\n",
    "print(\"ave = {}\".format( np.average(b) ))\n",
    "\n",
    "# MAX, \n",
    "print(\"max = {}\".format( np.max(b) ))\n",
    "\n",
    "# INDEX OF THE ELEMENT WITH THE MAX\n",
    "print(\"argmax = {}\".format( np.argmax(b) ))\n",
    "\n",
    "# NUMBER OF ELEMENTS\n",
    "print(\"size = {}\".format( np.size(b) ))\n",
    "\n",
    "# DIMENSION\n",
    "print(\"dimension of b is {}\".format( b.shape ))"
   ]
  },
  {
   "cell_type": "code",
   "execution_count": 11,
   "metadata": {},
   "outputs": [
    {
     "name": "stdout",
     "output_type": "stream",
     "text": [
      "n = 10 sum = 55\n",
      "n = 11 sum = 66\n",
      "n = 12 sum = 78\n"
     ]
    }
   ],
   "source": [
    "for n in range(10,13):\n",
    "    s = 0 \n",
    "    j = 1 \n",
    "    while j <= n:\n",
    "        s += j \n",
    "        j += 1 \n",
    "\n",
    "    print('n =', n, 'sum =', s)"
   ]
  },
  {
   "cell_type": "markdown",
   "metadata": {},
   "source": [
    "**Results of program for initial n values of 10, 11, and 12.**\n",
    "It is correct because manually checking the sum of the 10 (10 + 9 + 8 + ... + 1) returns 55. \n",
    "The values for n > 10 can be checked by adding on that n value to the resulting sum of the n-1 value. \n",
    ">n = 11 -> 11 + 55 (the sum of n = 10)  \n",
    ">n = 12 -> 12 + 66 (the sum of n = 11) \n",
    "      \n",
    "\n"
   ]
  },
  {
   "cell_type": "code",
   "execution_count": null,
   "metadata": {},
   "outputs": [],
   "source": []
  }
 ],
 "metadata": {
  "kernelspec": {
   "display_name": "Python 3",
   "language": "python",
   "name": "python3"
  },
  "language_info": {
   "codemirror_mode": {
    "name": "ipython",
    "version": 3
   },
   "file_extension": ".py",
   "mimetype": "text/x-python",
   "name": "python",
   "nbconvert_exporter": "python",
   "pygments_lexer": "ipython3",
   "version": "3.6.4"
  }
 },
 "nbformat": 4,
 "nbformat_minor": 2
}
