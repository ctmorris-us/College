{
 "cells": [
  {
   "cell_type": "markdown",
   "metadata": {},
   "source": [
    "# PHYS 105: Computational Physics I\n",
    "### Spring 2018\n",
    "### In-Class Exercise 1.1\n",
    "\n",
    "Name:\n",
    "\n",
    "Section:\n",
    "\n",
    "\n",
    "**Instructions**: Write a program to perform the following tasks. You may use this notebook. Be sure to email me your work before the end of the class.\n",
    "\n",
    "* Sum the geometric series \n",
    "$$\n",
    "        G_n = \\sum_{i=0}^n\\ r^i\n",
    "$$ \n",
    "for $n$=20 and $r$ = 0.75.\n",
    "  \n",
    "  \n",
    "* Check and compare your answer against the correct solution\n",
    "$$\n",
    "        G_n = \\frac{1-r^{n+1}}{1-r}.\n",
    "$$\n"
   ]
  }
 ],
 "metadata": {
  "kernelspec": {
   "display_name": "Python 2",
   "language": "python",
   "name": "python2"
  },
  "language_info": {
   "codemirror_mode": {
    "name": "ipython",
    "version": 3
   },
   "file_extension": ".py",
   "mimetype": "text/x-python",
   "name": "python",
   "nbconvert_exporter": "python",
   "pygments_lexer": "ipython3",
   "version": "3.6.7"
  }
 },
 "nbformat": 4,
 "nbformat_minor": 1
}
