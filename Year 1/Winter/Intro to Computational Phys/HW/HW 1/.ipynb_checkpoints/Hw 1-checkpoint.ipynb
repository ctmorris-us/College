{
 "cells": [
  {
   "cell_type": "markdown",
   "metadata": {},
   "source": [
    "**Hw Week 1**\n",
    "\n",
    "Name: Christopher Morris\n",
    "Section: 02\n",
    "\n",
    "(Side note: For the graphs I have yet to get the labels working for my computer, I will go talk with \n",
    "Professor McMillan on why AMUSE may be interferring with this. "
   ]
  },
  {
   "cell_type": "markdown",
   "metadata": {},
   "source": [
    "**HW Question 1**: Program was made to test a user-made sin function versus the python math implemented sin function."
   ]
  },
  {
   "cell_type": "code",
   "execution_count": 1,
   "metadata": {
    "scrolled": false
   },
   "outputs": [
    {
     "name": "stdout",
     "output_type": "stream",
     "text": [
      "1B) Results for user-made sin function:\n",
      "sin(.1) = 0.09983333333333334\n",
      "sin(1) = 0.841468253968254\n",
      "sin(10) = -0.5440121136494102\n",
      "sin(35) = -0.4344140352098325\n"
     ]
    }
   ],
   "source": [
    "\n",
    "def factorial(x):\n",
    "    if x == 1:\n",
    "        return x\n",
    "    else:\n",
    "        x *= factorial(x-1)\n",
    "    return x\n",
    "\n",
    "\n",
    "def sin(x):\n",
    "    i = 0 \n",
    "    val = 0 \n",
    "    while True:\n",
    "        temp = pow(-1,i) * pow(x, 2*i + 1) / factorial(2*i + 1)\n",
    "        if abs(temp) < 10e-6:\n",
    "            return val\n",
    "        val += temp\n",
    "        i += 1\n",
    "print('1B) Results for user-made sin function:')\n",
    "print('sin(.1) =', sin(.1))\n",
    "print('sin(1) =', sin(1))\n",
    "print('sin(10) =', sin(10))\n",
    "print('sin(35) =', sin(35))        "
   ]
  },
  {
   "cell_type": "code",
   "execution_count": 2,
   "metadata": {},
   "outputs": [
    {
     "name": "stdout",
     "output_type": "stream",
     "text": [
      "1C) Results for python implemented sin function:\n",
      "sin(.1) = 0.09983341664682815 which is 8.331349481138783e-08 off.\n",
      "sin(1) = 0.8414709848078965 which is 2.7308396425285153e-06 off.\n",
      "sin(10) = -0.5440211108893699 which is -8.997239959729342e-06 off.\n",
      "sin(35) = -0.428182669496151 which is 0.0062313657136814915 off.\n"
     ]
    }
   ],
   "source": [
    "import math as math \n",
    "\n",
    "print('1C) Results for python implemented sin function:')\n",
    "print('sin(.1) =', math.sin(.1),'which is', math.sin(.1) - sin(.1), 'off.')\n",
    "print('sin(1) =', math.sin(1),'which is', math.sin(1) - sin(1), 'off.' )\n",
    "print('sin(10) =', math.sin(10),'which is', math.sin(10) - sin(10), 'off.')\n",
    "print('sin(35) =', math.sin(35),'which is', math.sin(35) - sin(35), 'off.')"
   ]
  },
  {
   "cell_type": "code",
   "execution_count": 3,
   "metadata": {},
   "outputs": [
    {
     "name": "stdout",
     "output_type": "stream",
     "text": [
      "1D) user-made using math.factorial sin(45) = 37.93452679254748\n",
      "python implemented sin(45) = 0.8509035245341184\n"
     ]
    }
   ],
   "source": [
    "def sin(x):\n",
    "    i = 0 \n",
    "    val = 0 \n",
    "    while True:\n",
    "        temp = pow(-1,i) * pow(x, 2*i + 1) / math.factorial(2*i + 1)\n",
    "        if abs(temp) < 10e-6:\n",
    "            return val\n",
    "        val += temp\n",
    "        i += 1\n",
    "\n",
    "print('1D) user-made using math.factorial sin(45) =', sin(45))\n",
    "print('python implemented sin(45) =', math.sin(45))\n"
   ]
  },
  {
   "cell_type": "markdown",
   "metadata": {},
   "source": [
    "The user-made sin(45) blows up to a over 37.93 which implies it is increasing towards infinity which diverges from the real value of the sin function. This is probably due to the factorial function decreasing rapidly and thus drastically increasing the overall fraction and overloading the computer's memory, forcing it to compensate. \n"
   ]
  },
  {
   "cell_type": "markdown",
   "metadata": {},
   "source": [
    "**Hw Question 2**: Program to test a user-made fourier step-function based on user-inputed x-values and the number of summations (n)."
   ]
  },
  {
   "cell_type": "code",
   "execution_count": 4,
   "metadata": {},
   "outputs": [],
   "source": [
    "import numpy as np\n",
    "import matplotlib.pyplot as plt \n",
    "\n",
    "def fourier(x, n):\n",
    "    value = 0\n",
    "    for n in range(1,n+1):\n",
    "        value += (2/np.pi) * (1 - (-1)**n) * np.sin(n*x) / n\n",
    "    return value \n",
    "\n",
    "deltax = math.pi / 500\n",
    "xvals = np.arange(0, math.pi+deltax, deltax)"
   ]
  },
  {
   "cell_type": "code",
   "execution_count": 9,
   "metadata": {},
   "outputs": [
    {
     "ename": "TypeError",
     "evalue": "'str' object is not callable",
     "output_type": "error",
     "traceback": [
      "\u001b[0;31m---------------------------------------------------------------------------\u001b[0m",
      "\u001b[0;31mTypeError\u001b[0m                                 Traceback (most recent call last)",
      "\u001b[0;32m<ipython-input-9-01177175d11a>\u001b[0m in \u001b[0;36m<module>\u001b[0;34m()\u001b[0m\n\u001b[1;32m      4\u001b[0m \u001b[0mplt\u001b[0m\u001b[0;34m.\u001b[0m\u001b[0mplot\u001b[0m\u001b[0;34m(\u001b[0m\u001b[0mxvals\u001b[0m\u001b[0;34m,\u001b[0m \u001b[0mfourier\u001b[0m\u001b[0;34m(\u001b[0m\u001b[0mxvals\u001b[0m\u001b[0;34m,\u001b[0m \u001b[0;36m100\u001b[0m\u001b[0;34m)\u001b[0m\u001b[0;34m,\u001b[0m \u001b[0;34m'xkcd:rouge'\u001b[0m\u001b[0;34m,\u001b[0m\u001b[0mlabel\u001b[0m\u001b[0;34m=\u001b[0m\u001b[0;34m'n = 100'\u001b[0m\u001b[0;34m)\u001b[0m\u001b[0;34m\u001b[0m\u001b[0m\n\u001b[1;32m      5\u001b[0m \u001b[0mplt\u001b[0m\u001b[0;34m.\u001b[0m\u001b[0mplot\u001b[0m\u001b[0;34m(\u001b[0m\u001b[0mxvals\u001b[0m\u001b[0;34m,\u001b[0m \u001b[0mfourier\u001b[0m\u001b[0;34m(\u001b[0m\u001b[0mxvals\u001b[0m\u001b[0;34m,\u001b[0m \u001b[0;36m10000\u001b[0m\u001b[0;34m)\u001b[0m\u001b[0;34m,\u001b[0m\u001b[0;34m'k'\u001b[0m\u001b[0;34m,\u001b[0m\u001b[0mlabel\u001b[0m\u001b[0;34m=\u001b[0m\u001b[0;34m'n = infinity'\u001b[0m\u001b[0;34m)\u001b[0m\u001b[0;34m\u001b[0m\u001b[0m\n\u001b[0;32m----> 6\u001b[0;31m \u001b[0mplt\u001b[0m\u001b[0;34m.\u001b[0m\u001b[0mx_label\u001b[0m\u001b[0;34m(\u001b[0m\u001b[0;34m'2013'\u001b[0m\u001b[0;34m)\u001b[0m\u001b[0;34m\u001b[0m\u001b[0m\n\u001b[0m\u001b[1;32m      7\u001b[0m \u001b[0;34m\u001b[0m\u001b[0m\n\u001b[1;32m      8\u001b[0m \u001b[0mplt\u001b[0m\u001b[0;34m.\u001b[0m\u001b[0mlegend\u001b[0m\u001b[0;34m(\u001b[0m\u001b[0;34m)\u001b[0m\u001b[0;34m\u001b[0m\u001b[0m\n",
      "\u001b[0;31mTypeError\u001b[0m: 'str' object is not callable"
     ]
    },
    {
     "data": {
      "image/png": "[encoded data removed]",
      "text/plain": [
       "<matplotlib.figure.Figure at 0x10f95c550>"
      ]
     },
     "metadata": {},
     "output_type": "display_data"
    }
   ],
   "source": [
    "plt.plot(xvals, fourier(xvals, 1), 'xkcd:purple', label='n = 1')\n",
    "plt.plot(xvals, fourier(xvals, 5), 'g', label='n = 5')\n",
    "plt.plot(xvals, fourier(xvals, 10), 'b',label='n = 10')\n",
    "plt.plot(xvals, fourier(xvals, 100), 'xkcd:rouge',label='n = 100')\n",
    "plt.plot(xvals, fourier(xvals, 10000),'k',label='n = infinity')\n",
    "plt.x_label('2013')\n",
    "\n",
    "plt.legend()\n",
    "plt.legend(bbox_to_anchor=(1.3,1))\n",
    "print('2A & 2B)User Made Fourier Step Function from zero to pi.')\n",
    "print('The black line indicates how the step function should look overall with a great enough summations (n).')"
   ]
  },
  {
   "cell_type": "markdown",
   "metadata": {},
   "source": [
    "**Hw Question 3**: Program used to numerically calculate the time value in which a particle in one dimension returns back to its initial position as well as a graph of the particle."
   ]
  },
  {
   "cell_type": "code",
   "execution_count": null,
   "metadata": {},
   "outputs": [],
   "source": [
    "x0 = 0 \n",
    "v0 = 1\n",
    "a = -1.5\n",
    "dt = 0.05\n",
    "\n",
    "def get_position(t):\n",
    "    return x0 + v0*t + .5*a*t*t\n",
    "\n",
    "def get_final_time(x0, v0, a, dt):\n",
    "    x = x0 \n",
    "    v = v0\n",
    "    t = 0 \n",
    "    while not x < 0:\n",
    "        x += v*dt\n",
    "        v += a*dt \n",
    "        t += dt \n",
    "    return t \n",
    "    \n",
    "tvals = np.arange(0,2,.001)\n",
    "plt.plot(tvals, get_position(tvals),'r')\n",
    "final = get_final_time(x0, v0, a, dt)\n",
    "print('2A) The final time calulcated numerically for x (when dt is .05) to return to 0 is:', final)\n",
    "print('The analyitic solution calculated for x to return to 0 is:', round(2/(1.5),2))\n",
    "print('The numeric solution is about .7 away from the analytic solution.')\n",
    "plt.hlines(get_position(final), 0, 2)\n",
    "\n",
    "print('2B) Graph of position vs time (red), and the point in which the position returns to zero (black)')"
   ]
  },
  {
   "cell_type": "markdown",
   "metadata": {},
   "source": [
    "**Not part of the official homework set**\n",
    "\n",
    "This is included to show the increase in the accuracy by decreasing the time-step.\n"
   ]
  },
  {
   "cell_type": "code",
   "execution_count": null,
   "metadata": {},
   "outputs": [],
   "source": [
    "plt.plot(tvals, get_position(tvals),'r')\n",
    "final = get_final_time(x0, v0, a, .001)\n",
    "print('The final time calulcated numerically for x (when dt is .001) to return to 0 is:', final)\n",
    "print('The analyitic solution calculated for x to return to 0 is:', round(2/(1.5),2))\n",
    "print('The difference between the analytic and numerical answers are significanly less because of the decreased timestep.')\n",
    "plt.hlines(get_position(final), 0, 2)"
   ]
  },
  {
   "cell_type": "code",
   "execution_count": null,
   "metadata": {},
   "outputs": [],
   "source": []
  },
  {
   "cell_type": "code",
   "execution_count": null,
   "metadata": {},
   "outputs": [],
   "source": []
  }
 ],
 "metadata": {
  "kernelspec": {
   "display_name": "Python 3",
   "language": "python",
   "name": "python3"
  },
  "language_info": {
   "codemirror_mode": {
    "name": "ipython",
    "version": 3
   },
   "file_extension": ".py",
   "mimetype": "text/x-python",
   "name": "python",
   "nbconvert_exporter": "python",
   "pygments_lexer": "ipython3",
   "version": "3.6.4"
  }
 },
 "nbformat": 4,
 "nbformat_minor": 2
}
