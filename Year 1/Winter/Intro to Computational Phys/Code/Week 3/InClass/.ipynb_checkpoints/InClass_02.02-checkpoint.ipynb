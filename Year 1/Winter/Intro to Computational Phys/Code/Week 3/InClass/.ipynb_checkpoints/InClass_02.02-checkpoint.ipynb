{
 "cells": [
  {
   "cell_type": "markdown",
   "metadata": {},
   "source": [
    "# PHYS 105: Computational Physics I\n",
    "### Spring 2018\n",
    "### In-Class Exercise 2.2\n",
    "\n",
    "Name: Christopher Morris"
   ]
  },
  {
   "cell_type": "markdown",
   "metadata": {},
   "source": [
    "Use your code from In-Class Exercise 2.1 and add an interpolation function.\n",
    "\n",
    "**Instructions**:\n",
    "\n",
    "Just after your main loop finds the first value of $x<0$ and stops the loop, use this\n",
    "value of $x$ as well as $x_{prev}$ to interpolate the value of $t$ at which $x=0$.\n",
    "\n",
    "  * **Print** this value of $t$.\n"
   ]
  }
 ],
 "metadata": {
  "kernelspec": {
   "display_name": "Python 2",
   "language": "python",
   "name": "python2"
  },
  "language_info": {
   "codemirror_mode": {
    "name": "ipython",
    "version": 2
   },
   "file_extension": ".py",
   "mimetype": "text/x-python",
   "name": "python",
   "nbconvert_exporter": "python",
   "pygments_lexer": "ipython2",
   "version": "2.7.15"
  }
 },
 "nbformat": 4,
 "nbformat_minor": 1
}
