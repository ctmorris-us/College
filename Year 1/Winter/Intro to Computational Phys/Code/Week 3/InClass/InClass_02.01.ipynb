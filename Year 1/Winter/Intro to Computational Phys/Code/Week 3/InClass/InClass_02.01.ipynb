{
 "cells": [
  {
   "cell_type": "markdown",
   "metadata": {},
   "source": [
    "# PHYS 105: Computational Physics I\n",
    "### Spring 2018\n",
    "### In-Class Exercise 2.1\n",
    "\n",
    "Name: Christopher Morris"
   ]
  },
  {
   "cell_type": "markdown",
   "metadata": {},
   "source": [
    "As discussed in class, a particle moves in one dimension under the influence of an external\n",
    "force.  At time $t=0$, the particle has position $x_0$ and velocity\n",
    "$v_0$, and its position at any time $t$ is given by\n",
    "$$\n",
    "\tx(t) = x_0 + v_0t + \\alpha t^2 + \\beta t^3.\n",
    "$$\n",
    "\n",
    "**Instructions**:\n",
    "\n",
    "Write a program to evaluate the particle's position $x$ at\n",
    "discrete times $t_i = i\\,\\tt dt$, where the time step $\\tt dt$ is\n",
    "specified as a variable in the program. Choose\n",
    "\n",
    "\\begin{eqnarray*}\n",
    "\tx_0 &=& -1\\\\\n",
    "        v_0 &=& 6\\\\\n",
    "        \\alpha &=& -5\\\\\n",
    "        \\beta &=& 1\\\\\n",
    "        {\\tt dt} &=& 0.1\n",
    "\\end{eqnarray*}\n",
    "\n",
    "  * **Run** your program starting at $t=0$, using a $\\tt while$ loop to continue your\n",
    "  calculation. **Print** out the values of $t$ and $x$\n",
    "  (one pair per line) after every step.\n",
    "  \n",
    "  * **Stop** the calculation when $x\\le0$ and the previous value\n",
    "    of $x$ was $\\ge0$.\n",
    "    \n",
    "  * **Print** out the value of $t$ when this occurs.\n",
    "  \n",
    "  * **Plot** the trajectory $x(t)$ of the particle **demonstrating** graphically \n",
    "      that the trajectory has indeed returned to \n",
    "      $x=0$."
   ]
  },
  {
   "cell_type": "code",
   "execution_count": 3,
   "metadata": {},
   "outputs": [
    {
     "name": "stdout",
     "output_type": "stream",
     "text": [
      "0                         -1                       \n",
      "0.1                       -0.4489999999999999      \n",
      "0.2                       0.008000000000000168     \n",
      "0.30000000000000004       0.37700000000000017      \n",
      "0.4                       0.6640000000000004       \n",
      "0.5                       0.875                    \n",
      "0.6                       1.0159999999999998       \n",
      "0.7                       1.0929999999999995       \n",
      "0.7999999999999999        1.1120000000000005       \n",
      "0.8999999999999999        1.0789999999999993       \n",
      "0.9999999999999999        1.0000000000000004       \n",
      "1.0999999999999999        0.8810000000000011       \n",
      "1.2                       0.728                    \n",
      "1.3                       0.5470000000000002       \n",
      "1.4000000000000001        0.34399999999999853      \n",
      "1.5000000000000002        0.125                    \n",
      "1.6000000000000003        -0.10400000000000276     \n",
      "\n",
      "Value of t when x=0: 1.6000000000000003\n"
     ]
    },
    {
     "data": {
      "text/plain": [
       "Text(0.5,1,'t vs x(t)')"
      ]
     },
     "execution_count": 3,
     "metadata": {},
     "output_type": "execute_result"
    },
    {
     "data": {
      "image/png": "[encoded data removed]",
      "text/plain": [
       "<matplotlib.figure.Figure at 0x106638400>"
      ]
     },
     "metadata": {},
     "output_type": "display_data"
    }
   ],
   "source": [
    "import matplotlib.pyplot as plt\n",
    "def x(t):\n",
    "    return x0 + v0*t + alpha*t*t + beta*t*t*t\n",
    "\n",
    "\n",
    "x0 = -1\n",
    "v0 = 6\n",
    "alpha = -5\n",
    "beta = 1\n",
    "dt = .1\n",
    "\n",
    "t = 0\n",
    "t_list = []\n",
    "x_list = []\n",
    "while True:\n",
    "    print('{:<25} {:<25}'.format(t, x(t)))\n",
    "    t_list.append(t)\n",
    "    x_list.append(x(t))\n",
    "    \n",
    "    if (x(t) <= 0) and (x(t-dt) >= 0):\n",
    "        break\n",
    "    t += dt\n",
    "    \n",
    "print('\\nValue of t when x=0:', t)\n",
    "plt.plot(t_list, x_list, 'k-')\n",
    "plt.plot(t, x(t), 'ro')\n",
    "plt.xlabel('t')\n",
    "plt.ylabel('x(t)')\n",
    "plt.title('t vs x(t)')\n"
   ]
  },
  {
   "cell_type": "code",
   "execution_count": null,
   "metadata": {},
   "outputs": [],
   "source": []
  },
  {
   "cell_type": "code",
   "execution_count": null,
   "metadata": {},
   "outputs": [],
   "source": []
  }
 ],
 "metadata": {
  "kernelspec": {
   "display_name": "Python 3",
   "language": "python",
   "name": "python3"
  },
  "language_info": {
   "codemirror_mode": {
    "name": "ipython",
    "version": 3
   },
   "file_extension": ".py",
   "mimetype": "text/x-python",
   "name": "python",
   "nbconvert_exporter": "python",
   "pygments_lexer": "ipython3",
   "version": "3.6.4"
  }
 },
 "nbformat": 4,
 "nbformat_minor": 1
}
