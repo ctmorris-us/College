{
 "cells": [
  {
   "cell_type": "markdown",
   "metadata": {},
   "source": [
    "# PHYS 105: Computational Physics I\n",
    "### Spring 2018\n",
    "### In-Class Exercise 2.2\n",
    "\n",
    "Name: Christopher Morris"
   ]
  },
  {
   "cell_type": "markdown",
   "metadata": {},
   "source": [
    "Use your code from In-Class Exercise 2.1 and add an interpolation function.\n",
    "\n",
    "**Instructions**:\n",
    "\n",
    "Just after your main loop finds the first value of $x<0$ and stops the loop, use this\n",
    "value of $x$ as well as $x_{prev}$ to interpolate the value of $t$ at which $x=0$.\n",
    "\n",
    "  * **Print** this value of $t$.\n"
   ]
  },
  {
   "cell_type": "code",
   "execution_count": 2,
   "metadata": {},
   "outputs": [
    {
     "name": "stdout",
     "output_type": "stream",
     "text": [
      "0                         -1                       \n",
      "0.1                       -0.4489999999999999      \n",
      "0.2                       0.008000000000000168     \n",
      "0.30000000000000004       0.37700000000000017      \n",
      "0.4                       0.6640000000000004       \n",
      "0.5                       0.875                    \n",
      "0.6                       1.0159999999999998       \n",
      "0.7                       1.0929999999999995       \n",
      "0.7999999999999999        1.1120000000000005       \n",
      "0.8999999999999999        1.0789999999999993       \n",
      "0.9999999999999999        1.0000000000000004       \n",
      "1.0999999999999999        0.8810000000000011       \n",
      "1.2                       0.728                    \n",
      "1.3                       0.5470000000000002       \n",
      "1.4000000000000001        0.34399999999999853      \n",
      "1.5000000000000002        0.125                    \n",
      "1.6000000000000003        -0.10400000000000276     \n",
      "\n",
      "Value of t when x<0: 1.6000000000000003\n",
      "\n",
      "The Linearly Interpolated value of t when x=0: 1.5545851528384276\n"
     ]
    },
    {
     "data": {
      "text/plain": [
       "Text(0.5,1,'t vs x(t)')"
      ]
     },
     "execution_count": 2,
     "metadata": {},
     "output_type": "execute_result"
    },
    {
     "data": {
      "image/png": "[encoded data removed]",
      "text/plain": [
       "<matplotlib.figure.Figure at 0x10fc59ef0>"
      ]
     },
     "metadata": {},
     "output_type": "display_data"
    }
   ],
   "source": [
    "import matplotlib.pyplot as plt\n",
    "\n",
    "def x(t):\n",
    "    return x0 + v0*t + alpha*t*t + beta*t*t*t\n",
    "\n",
    "def interp(x0, y0, x1, y1, x=None, y=None):\n",
    "    if y == None:\n",
    "        return y0 + (y1 - y0) * (x - x0) / (x1 - x0)\n",
    "    elif x == None:\n",
    "        return (y-y0) * (x1 - x0) / (y1 - y0) + x0\n",
    "\n",
    "x0 = -1\n",
    "v0 = 6\n",
    "alpha = -5\n",
    "beta = 1\n",
    "dt = .1\n",
    "\n",
    "t = 0\n",
    "t_list = []\n",
    "x_list = []\n",
    "while True:\n",
    "    print('{:<25} {:<25}'.format(t, x(t)))\n",
    "    t_list.append(t)\n",
    "    x_list.append(x(t))\n",
    "    \n",
    "    if (x(t) <= 0) and (x(t-dt) >= 0):\n",
    "        break\n",
    "    t += dt\n",
    "\n",
    "t_interpolated = interp(t-dt, x(t-dt), t, x(t), y = 0)\n",
    "    \n",
    "print('\\nValue of t when x<0:', t)\n",
    "print('\\nThe Linearly Interpolated value of t when x=0:', t_interpolated)\n",
    "plt.plot(t_list, x_list, 'k-')\n",
    "plt.plot(t, x(t), 'ro')\n",
    "plt.plot(t_interpolated, 0, 'bo')\n",
    "plt.xlabel('t')\n",
    "plt.ylabel('x(t)')\n",
    "plt.title('t vs x(t)')"
   ]
  },
  {
   "cell_type": "code",
   "execution_count": null,
   "metadata": {},
   "outputs": [],
   "source": []
  }
 ],
 "metadata": {
  "kernelspec": {
   "display_name": "Python 3",
   "language": "python",
   "name": "python3"
  },
  "language_info": {
   "codemirror_mode": {
    "name": "ipython",
    "version": 3
   },
   "file_extension": ".py",
   "mimetype": "text/x-python",
   "name": "python",
   "nbconvert_exporter": "python",
   "pygments_lexer": "ipython3",
   "version": "3.6.4"
  }
 },
 "nbformat": 4,
 "nbformat_minor": 1
}
