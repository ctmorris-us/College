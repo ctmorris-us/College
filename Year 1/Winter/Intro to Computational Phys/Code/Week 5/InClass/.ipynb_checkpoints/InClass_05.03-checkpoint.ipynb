{
 "cells": [
  {
   "cell_type": "markdown",
   "metadata": {},
   "source": [
    "# PHYS 105: Computational Physics I\n",
    "### Spring 2018\n",
    "### In-Class Exercise 5.3\n",
    "\n",
    "Name: Christopher Morris"
   ]
  },
  {
   "cell_type": "markdown",
   "metadata": {},
   "source": [
    "**Instructions**:\n",
    "\n",
    "   * **Repeat** Exercise 5.1 with the simple integration scheme for the case of the nonlinear oscillator with\n",
    "\n",
    "$$\n",
    "        \\tt acc = -\\ K x^3\n",
    "$$\n",
    "    \n",
    "and K = 4 with $\\delta t$ starting at 0.1. Find the order for this force.\n",
    "\n",
    "\n",
    "   * **Repeat again**, but now using the modified integration scheme obtained by including the \"jerk\" (derivative of the acceleration) term **explicitly** in the velocity step:\n",
    "\n",
    "\\begin{eqnarray}\n",
    "\t\\tt a &\\ =& \\tt acc(x, v, t)\\\\\n",
    "    \\tt j &\\ =& \\tt jerk(x, v, t)\\\\\n",
    "\t\\tt x &\\mathrel{+}=& \\tt v*dt + 0.5*a*dt*dt\\\\\n",
    "    \\tt v &\\mathrel{+}=& \\tt a*dt + 0.5*j*dt*dt\\\\\n",
    "    \\tt t &\\mathrel{+}=& \\tt dt\n",
    "\\end{eqnarray}\n",
    "    \n",
    "Note that we only include the jerk in the velocity step, for the same reason as discussed in Exercise 5.2. That is, adding a higher order term $O(\\delta t^3)$ in $x$ will not improve the order of the method.\n"
   ]
  }
 ],
 "metadata": {
  "kernelspec": {
   "display_name": "Python 2",
   "language": "python",
   "name": "python2"
  },
  "language_info": {
   "codemirror_mode": {
    "name": "ipython",
    "version": 2
   },
   "file_extension": ".py",
   "mimetype": "text/x-python",
   "name": "python",
   "nbconvert_exporter": "python",
   "pygments_lexer": "ipython2",
   "version": "2.7.15"
  }
 },
 "nbformat": 4,
 "nbformat_minor": 1
}
