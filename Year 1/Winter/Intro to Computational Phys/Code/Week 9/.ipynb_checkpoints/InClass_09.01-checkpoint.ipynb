{
 "cells": [
  {
   "cell_type": "markdown",
   "metadata": {},
   "source": [
    "# PHYS 105: Computational Physics I\n",
    "\n",
    "## In-Class Exercise 9.1"
   ]
  },
  {
   "cell_type": "markdown",
   "metadata": {},
   "source": [
    "## Suborbital Motion: Air Resistance\n",
    "\n",
    "Lets add now the effects of air resistance.  Include the\n",
    "$\\beta v^2$ term to the acceleration:\n",
    "\n",
    "\\begin{eqnarray}\n",
    "~~~~~~a_x &=& -\\frac{GM\\,x}{r^3} - \\beta v v_x\\nonumber\\\\\n",
    "~~~~~~a_y &=& -\\frac{GM\\,y}{r^3} - \\beta v v_y\\,.\\nonumber\n",
    "\\end{eqnarray}\n",
    "\n",
    "As before, include the decrease in density with altitude by taking\n",
    "\n",
    "$$\n",
    "\t\\beta ~=~ 10^{-5}\\,e^{-(r-R)/h}\\,,\n",
    "$$\n",
    "\n",
    "where $h=7$ km.\n",
    "\n",
    "    \n",
    "  **Instructions**:\n",
    "    \n",
    "Consider again $GM = gR^2$, and use a timestep of $\\delta t = 0.1$ s. \n",
    "For $v_0$ = 1500 m/s and angle  $\\theta_0 = 20^\\circ$ to the horizontal:\n",
    "    \n",
    "  * **Plot** the trajectory of your projectile \n",
    "    until it strikes the ground, at $r$ < $R$.\n",
    "  * **Determine** the\n",
    "    range (*along* the surface), maximum height (in the *radial* direction), \n",
    "    and time of flight.  As usual, use linear\n",
    "    interpolation (to $r$ = $R$) to refine your answer for the range and\n",
    "    time of flight. \n",
    "  * **Determine** by how much does the range decrease compared to the previous \n",
    "    in-class (In-Class 9.0b).\n",
    "  * **Find** the value of $v_0$ to restore the range obtained in\n",
    "\tthe previous in-class to 1 percent accuracy.\n",
    "  * By varying $\\theta$, **find** the maximum possible range for this value of\n",
    "\t$v_0$. **How much** is this value of $\\theta$ ($\\theta_{max}$)."
   ]
  }
 ],
 "metadata": {
  "kernelspec": {
   "display_name": "Python 2",
   "language": "python",
   "name": "python2"
  },
  "language_info": {
   "codemirror_mode": {
    "name": "ipython",
    "version": 2
   },
   "file_extension": ".py",
   "mimetype": "text/x-python",
   "name": "python",
   "nbconvert_exporter": "python",
   "pygments_lexer": "ipython2",
   "version": "2.7.15"
  }
 },
 "nbformat": 4,
 "nbformat_minor": 1
}
