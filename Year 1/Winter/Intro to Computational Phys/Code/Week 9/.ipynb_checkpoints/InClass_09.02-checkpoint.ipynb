{
 "cells": [
  {
   "cell_type": "markdown",
   "metadata": {},
   "source": [
    "# PHYS 105: Computational Physics I\n",
    "\n",
    "## In-Class Exercise 9.2"
   ]
  },
  {
   "cell_type": "markdown",
   "metadata": {},
   "source": [
    "## Suborbital Motion: Shooting into Orbit\n",
    "\n",
    "Now let's go for broke! Lets send the projectile out into space. \n",
    "We will know that the projectile will escape earth if \n",
    "it is moving faster than Earth's \n",
    "*escape speed* $\\sqrt{2GM/r}$ at a given $r$.\n",
    " \n",
    "    \n",
    "  **Instructions**:\n",
    "    \n",
    "Consider again $GM = gR^2$, and use a timestep of $\\delta t = 0.1$ s. \n",
    "You will keep $\\theta$ fixed at $20^\\circ$ while still considering\n",
    "$\\beta = 10^{-5} e^{-(r-R)/h}$.\n",
    "\n",
    "  * **Increase** $v_0$ until the projectile is moving faster than Earth's\n",
    "    escape speed at an altitude of 100 km.\n",
    "  * **Compare** this value of $v_0$ to the escape speed at Earth's surface.  \n",
    "    How do you account for the difference?\n",
    "    "
   ]
  }
 ],
 "metadata": {
  "kernelspec": {
   "display_name": "Python 2",
   "language": "python",
   "name": "python2"
  },
  "language_info": {
   "codemirror_mode": {
    "name": "ipython",
    "version": 2
   },
   "file_extension": ".py",
   "mimetype": "text/x-python",
   "name": "python",
   "nbconvert_exporter": "python",
   "pygments_lexer": "ipython2",
   "version": "2.7.15"
  }
 },
 "nbformat": 4,
 "nbformat_minor": 1
}
