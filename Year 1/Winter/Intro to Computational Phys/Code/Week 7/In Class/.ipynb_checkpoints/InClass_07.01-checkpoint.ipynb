{
 "cells": [
  {
   "cell_type": "markdown",
   "metadata": {},
   "source": [
    "# PHYS 105: Computational Physics I\n",
    "\n",
    "## In-Class Exercise 7.1\n",
    "\n",
    "Damped Pendulum"
   ]
  },
  {
   "cell_type": "markdown",
   "metadata": {},
   "source": [
    "Consider a particle moving under the influence of a restoring acceleration\n",
    "\n",
    "$$\n",
    "    -k sin(x),\n",
    "$$\n",
    "\n",
    "with  k = 1,  and that friction also acts, producing a force  \n",
    "\n",
    "$$\n",
    "    -\\alpha v  \n",
    "$$\n",
    "\n",
    "that always opposes the motion. Note that the variable $x$ is angle, replacing $\\theta$ in our earlier discussion. \n",
    "\n",
    "The particle starts with position  $x = 0$  and velocity  $v = 1$  at time  $t = 0$.\n",
    "\n",
    "**Instructions**:\n",
    "\n",
    "   * **Modify** the predictor-corrector template program (in the InClass web page) studied previously to now study the effect of friction on pendulum motion. \n",
    "\n",
    "   * Using a time step of  $dt = 0.01$,  **answer** the following questions for  $\\alpha = 0, 0.1, 0.2, 0.5$, and $1.0$:\n",
    "\n",
    "        * By what **factor** does the amplitude decrease per oscillation -- that is, what is the **ratio** of  $x$  from one maximum to the next?\n",
    "\n",
    "          * Do this by looking for a change in velocity from positive to negative, and taking the maximum of the current and previous positions as good estimates of the maximum values.\n",
    "\n",
    "          * Find at least three maxima so that you can calculate at least two maxima ratios.\n",
    "\n",
    "   * By continuing to increase  $\\alpha$  in small increments (by *trial and error* is ok) until the particle never quite returns to  $x = 0$,  **estimate** the value of the critical damping factor  $\\alpha_c$,  beyond which oscillations cease."
   ]
  },
  {
   "cell_type": "code",
   "execution_count": null,
   "metadata": {},
   "outputs": [],
   "source": []
  }
 ],
 "metadata": {
  "kernelspec": {
   "display_name": "Python 3",
   "language": "python",
   "name": "python3"
  },
  "language_info": {
   "codemirror_mode": {
    "name": "ipython",
    "version": 3
   },
   "file_extension": ".py",
   "mimetype": "text/x-python",
   "name": "python",
   "nbconvert_exporter": "python",
   "pygments_lexer": "ipython3",
   "version": "3.6.4"
  }
 },
 "nbformat": 4,
 "nbformat_minor": 1
}
