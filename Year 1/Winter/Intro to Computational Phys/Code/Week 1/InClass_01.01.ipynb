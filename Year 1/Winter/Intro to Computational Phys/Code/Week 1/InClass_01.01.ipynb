{
 "cells": [
  {
   "cell_type": "markdown",
   "metadata": {},
   "source": [
    "# PHYS 105: Computational Physics I\n",
    "### Spring 2018\n",
    "### In-Class Exercise 1.1\n",
    "\n",
    "Name: Christopher Morris\n",
    "\n",
    "Section: 002\n",
    "\n",
    "\n",
    "**Instructions**: Write a program to perform the following tasks. You may use this notebook. Be sure to email me your work before the end of the class.\n",
    "\n",
    "* Sum the geometric series \n",
    "$$\n",
    "        G_n = \\sum_{i=0}^n\\ r^i\n",
    "$$ \n",
    "for $n$=20 and $r$ = 0.75.\n",
    "  \n",
    "  \n",
    "* Check and compare your answer against the correct solution\n",
    "$$\n",
    "        G_n = \\frac{1-r^{n+1}}{1-r}.\n",
    "$$\n"
   ]
  },
  {
   "cell_type": "code",
   "execution_count": 3,
   "metadata": {},
   "outputs": [
    {
     "name": "stdout",
     "output_type": "stream",
     "text": [
      "Value of Gn using the series for a n value of n 3.990486364183198\n"
     ]
    }
   ],
   "source": [
    "i = 0\n",
    "n = 20 \n",
    "r = .75\n",
    "\n",
    "val = 0 \n",
    "while i <= 20:\n",
    "    val += r**i\n",
    "    i += 1\n",
    "print('Value of Gn using the series for a n value of 20', val)"
   ]
  },
  {
   "cell_type": "code",
   "execution_count": 5,
   "metadata": {},
   "outputs": [
    {
     "name": "stdout",
     "output_type": "stream",
     "text": [
      "Value of Gn using the correct solution 3.990486364183198\n"
     ]
    }
   ],
   "source": [
    "G = (1 - r**(n+1)) / (1 - r)\n",
    "print('Value of Gn using the correct solution', G)"
   ]
  },
  {
   "cell_type": "code",
   "execution_count": null,
   "metadata": {},
   "outputs": [],
   "source": []
  }
 ],
 "metadata": {
  "kernelspec": {
   "display_name": "Python 3",
   "language": "python",
   "name": "python3"
  },
  "language_info": {
   "codemirror_mode": {
    "name": "ipython",
    "version": 3
   },
   "file_extension": ".py",
   "mimetype": "text/x-python",
   "name": "python",
   "nbconvert_exporter": "python",
   "pygments_lexer": "ipython3",
   "version": "3.6.4"
  }
 },
 "nbformat": 4,
 "nbformat_minor": 1
}
