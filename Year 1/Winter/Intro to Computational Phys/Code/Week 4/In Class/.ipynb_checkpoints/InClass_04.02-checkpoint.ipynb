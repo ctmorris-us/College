{
 "cells": [
  {
   "cell_type": "markdown",
   "metadata": {},
   "source": [
    "# PHYS 105: Computational Physics I\n",
    "\n",
    "## In-Class Exercise 4.2\n",
    "\n",
    "Name:"
   ]
  },
  {
   "cell_type": "markdown",
   "metadata": {},
   "source": [
    "Modify the template given in the course website to solve the motion of the simple harmonic oscillator.\n",
    "\n",
    "Consider the harmonic acceleration to be $a = -K x$  with $K = 4$, and initial conditions $x = 0$ and $v = V0$. \n",
    "\n",
    "**Instructions**:\n",
    "\n",
    "Part (a):\n",
    "\n",
    "   * Take $V0 = 1$ with $dt = 0.05$ and **run** the program until $t = 2\\pi$.\n",
    "   \n",
    "   * **Compare** the analytic and numerical solutions as functions of time by plotting them in the same plot.\n",
    "    \n",
    "   * **Plot** the total mechanical energy $E = 0.5 v^2 + 0.5 K x^2$ as a function of time.\n",
    "    \n",
    "   * **Reduce** $dt$ by hand until \"reasonable\" agreement between the numerical and analytical results is obtained, that is, **find** $dt$ for which the difference between the absolute values of the initial and final energies is just below 1 percent. \n",
    "   \n",
    "   \n",
    "Part (b):\n",
    "  \n",
    "* Using this optimum $dt$, now **modify** the termination condition to compute numerically the period of the motion, by finding the first time $t > 0$ when the particle crosses from $x < 0$ to $x \\geq 0$. Use linear interpolation to refine your estimate.\n",
    "\n",
    "* **Repeat** your calculation of the period for V0 = 0.25, 0.5, 1, 2, 4, 8.\n",
    " \n",
    "* **Plot** the period as a function of V0 for V0 = 0.25, 0.5, 1, 2, 4, 8.\n",
    "\n",
    "* **Does** your plot make sense?"
   ]
  }
 ],
 "metadata": {
  "kernelspec": {
   "display_name": "Python 2",
   "language": "python",
   "name": "python2"
  },
  "language_info": {
   "codemirror_mode": {
    "name": "ipython",
    "version": 3
   },
   "file_extension": ".py",
   "mimetype": "text/x-python",
   "name": "python",
   "nbconvert_exporter": "python",
   "pygments_lexer": "ipython3",
   "version": "3.6.7"
  }
 },
 "nbformat": 4,
 "nbformat_minor": 1
}
