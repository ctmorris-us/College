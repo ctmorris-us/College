{
 "cells": [
  {
   "cell_type": "markdown",
   "metadata": {},
   "source": [
    "# PHYS 105: Computational Physics I\n",
    "\n",
    "## In-Class Exercise 4.3\n",
    "\n",
    "Name:"
   ]
  },
  {
   "cell_type": "markdown",
   "metadata": {},
   "source": [
    "This exercise is **the same** as 4.2, but for a different acceleration. Feel free to use and modify **your previous code** from In-Class exercise 4.2. There should only be slight modifications to make it work here.\n",
    "\n",
    "Consider periodic motion as observed in a real pendulum, with acceleration $a = -K sin(x)$  with $K = 4$, and initial conditions $x = 0$ and $v = V0$. \n",
    "\n",
    "\n",
    "\n",
    "**Instructions**:\n",
    "\n",
    "Part (a):\n",
    "\n",
    "   * Take $V0 = 1$ with $dt = 0.05$.\n",
    "    \n",
    "   * **Reduce** $dt$ by hand until \"reasonable\" agreement between the numerical and analytical results is obtained, that is, **find** $dt$ for which the difference between the absolute values of the initial and final energies is just below 1 percent. \n",
    "   \n",
    "   \n",
    "Part (b):\n",
    "  \n",
    "* Just like in 4.2(b), use this optimum $dt$ to compute numerically the period of the motion, by finding the first time $t > 0$ when the particle crosses from $x < 0$ to $x \\geq 0$. Use linear interpolation to refine your estimate.\n",
    "\n",
    "* **Repeat** your calculation and **plot** the period for V0 = 0.25, 0.5, 1, 2, 3, 3.5, 3.8, 3.9, 3.95.\n",
    "\n",
    "* **Explain** what is happening for $V0 \\geq 4$."
   ]
  }
 ],
 "metadata": {
  "kernelspec": {
   "display_name": "Python 2",
   "language": "python",
   "name": "python2"
  },
  "language_info": {
   "codemirror_mode": {
    "name": "ipython",
    "version": 3
   },
   "file_extension": ".py",
   "mimetype": "text/x-python",
   "name": "python",
   "nbconvert_exporter": "python",
   "pygments_lexer": "ipython3",
   "version": "3.6.7"
  }
 },
 "nbformat": 4,
 "nbformat_minor": 1
}
