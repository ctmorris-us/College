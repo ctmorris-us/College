{
 "cells": [
  {
   "cell_type": "markdown",
   "metadata": {},
   "source": [
    "# PHYS 105: Computational Physics I\n",
    "\n",
    "## In-Class Exercise 8.1"
   ]
  },
  {
   "cell_type": "markdown",
   "metadata": {},
   "source": [
    "## 2-D Motion with Dissipation\n",
    "\n",
    "Here you will apply what we have learned about dissipation to 2-D motion by\n",
    "including the effect of air resistance into a projectile problem.  We\n",
    "will do this in several stages.\n",
    "\n",
    "You may start with the version of the projectile (predictor--corrector)\n",
    "program without dissipation or the solution to in-class 8.0, provided on the web page.\n",
    "\n",
    "Lets begin by **including** a dissipative acceleration of the first form:\n",
    "      \n",
    "$$\n",
    "\t{\\bf a}_{diss} = -\\alpha\\  {\\bf v}\n",
    "$$\n",
    "\n",
    "  (for the symbol $\\alpha$ you may use ALPHA in your program).  Note that now ${\\bf v}\n",
    "      = (v_x, v_y)$ is a 2-D vector, so ${\\bf a}_{diss}$ also has two\n",
    "      components.  Note too that you will have to modify the\n",
    "      calculation of the acceleration components to include velocities\n",
    "      as well as positions as arguments.\n",
    "      \n",
    "**Instructions**\n",
    "\n",
    "  1. **Verify** using your new modified code that setting ALPHA = 0 preserves\n",
    "      the projectile motion solution without air resistance.  To do this, choose an initial\n",
    "      velocity of 100 m/s at 60 degrees to the horizontal, take a time\n",
    "      step of 0.1 s, and confirm that the range (the linearly\n",
    "      interpolated value of $x$ when $y = 0$) and time of flight\n",
    "      (linearly interpolated value of $t$ when $y = 0$) agree with the\n",
    "      analytic results (your results from InClass 8.0).\n",
    "      \n",
    "  2. How does the trajectory of the projectile vary as you increase\n",
    "      ALPHA?  Specifically, **determine** the (interpolated) (i) range and\n",
    "      (ii) time of flight for\n",
    "\n",
    "\t\tALPHA = 0.01, 0.02, 0.04, 0.08, 0.16, 0.32, 0.64\n",
    "\n",
    "      using the same initial *velocity* as in the original program.\n",
    "      **Plot** both quantities (range and time of flight) as functions of ALPHA.\n",
    "\n",
    "  3. For the case ALPHA = 0.1, **how much** faster must the projectile be\n",
    "      fired (keeping the angle constant) to hit the same spot on the\n",
    "      ground as in the case ALPHA = 0?  **Compare** the three trajectories\n",
    "      (ALPHA = 0, ALPHA = 0.1, and ALPHA = 0.1 with the increased\n",
    "      initial velocity) by **plotting** them on the same graph.  Using your result, calculate by what\n",
    "      **factor** does the initial *kinetic energy* have to increase to\n",
    "      overcome the effects of air resistance?\n",
    "\n",
    "  4. For the case ALPHA = 0.1 and for a projective fired in the vertical direction \n",
    "\t(at 90 degrees from the horizontal), **verify** the value of the *terminal \n",
    "\tvelocity* of the projectile when returning\n",
    "\tto the surface for values of initial velocity of 100, 200, 300, 400, and 500 m/s."
   ]
  }
 ],
 "metadata": {
  "kernelspec": {
   "display_name": "Python 2",
   "language": "python",
   "name": "python2"
  },
  "language_info": {
   "codemirror_mode": {
    "name": "ipython",
    "version": 2
   },
   "file_extension": ".py",
   "mimetype": "text/x-python",
   "name": "python",
   "nbconvert_exporter": "python",
   "pygments_lexer": "ipython2",
   "version": "2.7.15"
  }
 },
 "nbformat": 4,
 "nbformat_minor": 1
}
