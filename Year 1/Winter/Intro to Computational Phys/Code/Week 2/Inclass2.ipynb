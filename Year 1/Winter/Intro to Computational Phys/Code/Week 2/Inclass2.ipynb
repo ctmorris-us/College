{
 "cells": [
  {
   "cell_type": "markdown",
   "metadata": {},
   "source": [
    "Math\n",
    "import the math library\n",
    "print the following:\n",
    "square-root of 2\n",
    "pi\n",
    "e\n",
    "absolute value of -7.3\n",
    "exponential of -2.3\n",
    "exponential of 0.00001\n",
    "natural log of 4\n",
    "log base10 of 10\n",
    "2.3 to the 3.5 power\n",
    "sine of pi/2\n",
    "cosine of pi\n",
    "degree conversion of 1.5708 radians\n",
    "radian conversion of 90 degrees\n",
    "import the numpy library\n",
    "print the following using the numpy library:\n",
    "square root of 2\n",
    "pi\n",
    "e\n",
    "\n"
   ]
  },
  {
   "cell_type": "code",
   "execution_count": 21,
   "metadata": {},
   "outputs": [
    {
     "name": "stdout",
     "output_type": "stream",
     "text": [
      "1.4142135623730951 3.141592653589793 2.718281828459045 7.3 0.10025884372280375 1.00001000005 1.3862943611198906 1.0\n"
     ]
    }
   ],
   "source": [
    "import math as math\n",
    "\n",
    "print(math.sqrt(2), math.pi, math.e, math.fabs(-7.3), math.exp(-2.3), math.exp(.00001), math.log(4), math.log(10, 10))\n"
   ]
  },
  {
   "cell_type": "code",
   "execution_count": 3,
   "metadata": {},
   "outputs": [
    {
     "name": "stdout",
     "output_type": "stream",
     "text": [
      "18.45216910555504 1.0 -1.0 90.00021045914971 1.5707963267948966\n"
     ]
    }
   ],
   "source": [
    "print(pow(2.3, 3.5), math.sin(math.pi/2), math.cos(math.pi), math.degrees(1.5708), math.radians(90))"
   ]
  },
  {
   "cell_type": "code",
   "execution_count": 4,
   "metadata": {},
   "outputs": [
    {
     "name": "stdout",
     "output_type": "stream",
     "text": [
      "1.41421356237 3.141592653589793 2.718281828459045\n"
     ]
    }
   ],
   "source": [
    "import numpy as np\n",
    "print(np.sqrt(2), np.pi, np.e)"
   ]
  },
  {
   "cell_type": "markdown",
   "metadata": {},
   "source": [
    "Factorial\n",
    "import the math package\n",
    "import from the scipy.special, the factorial function\n",
    "print the following:\n",
    "the math.factorial of 20\n",
    "the scipy.special.factorial of 20"
   ]
  },
  {
   "cell_type": "code",
   "execution_count": 6,
   "metadata": {
    "scrolled": true
   },
   "outputs": [
    {
     "name": "stdout",
     "output_type": "stream",
     "text": [
      "2432902008176640000 2.43290200817664e+18\n"
     ]
    }
   ],
   "source": [
    "from scipy.special import factorial\n",
    "print(math.factorial(20), factorial(20))"
   ]
  },
  {
   "cell_type": "markdown",
   "metadata": {},
   "source": [
    "Arrays\n",
    "import the numpy package\n",
    "define a numpy array with several elements\n",
    "print the following using numpy array functions:\n",
    "the sum of the elements\n",
    "the mean of the elements\n",
    "the standard deviation\n",
    "the length of the array"
   ]
  },
  {
   "cell_type": "code",
   "execution_count": 24,
   "metadata": {},
   "outputs": [
    {
     "name": "stdout",
     "output_type": "stream",
     "text": [
      "10 2.5 1.11803398875 4\n",
      "10 2.5 1.11803398875 4\n"
     ]
    }
   ],
   "source": [
    "import numpy as np\n",
    "a = np.array([1,2,3,4])\n",
    "print(np.sum(a), np.mean(a), np.std(a), len(a))\n",
    "print(a.sum(), a.mean(), a.std(), len(a))"
   ]
  },
  {
   "cell_type": "markdown",
   "metadata": {},
   "source": [
    "Ranges\n",
    "import the numpy package\n",
    "print the following:\n",
    "a list of integers using numpy 'arange' from 0 to 4\n",
    "now from 1 to 5 with a step of 2\n",
    "from 2.1 to 7.4 with a step of .1\n",
    "an evenly spaced list of four numbers from 1 to 10 of using numpy 'linspace'\n",
    "the same but with six numbers from 1 to 10\n",
    "\n"
   ]
  },
  {
   "cell_type": "code",
   "execution_count": 25,
   "metadata": {},
   "outputs": [
    {
     "name": "stdout",
     "output_type": "stream",
     "text": [
      "[0 1 2 3 4] [1 3 5] [ 2.1  2.2  2.3  2.4  2.5  2.6  2.7  2.8  2.9  3.   3.1  3.2  3.3  3.4  3.5\n",
      "  3.6  3.7  3.8  3.9  4.   4.1  4.2  4.3  4.4  4.5  4.6  4.7  4.8  4.9  5.\n",
      "  5.1  5.2  5.3  5.4  5.5  5.6  5.7  5.8  5.9  6.   6.1  6.2  6.3  6.4  6.5\n",
      "  6.6  6.7  6.8  6.9  7.   7.1  7.2  7.3  7.4] [  1.   4.   7.  10.] [  1.    2.8   4.6   6.4   8.2  10. ]\n"
     ]
    }
   ],
   "source": [
    "print(np.arange(0,5), np.arange(1,6,2), np.arange(2.1,7.5,.1), np.linspace(1,10,4), np.linspace(1,10,6))\n"
   ]
  },
  {
   "cell_type": "markdown",
   "metadata": {},
   "source": [
    "Vectorization\n",
    "import the numpy package\n",
    "define a numpy array with three element\n",
    "print the square root of all of the elements in one-go\n",
    "now the cosine of the elements\n"
   ]
  },
  {
   "cell_type": "code",
   "execution_count": 14,
   "metadata": {},
   "outputs": [
    {
     "name": "stdout",
     "output_type": "stream",
     "text": [
      "[ 1.          1.41421356  1.73205081] [ 0.54030231 -0.41614684 -0.9899925 ]\n"
     ]
    }
   ],
   "source": [
    "a = np.array([1,2,3])\n",
    "print(np.sqrt(a), np.cos(a))"
   ]
  },
  {
   "cell_type": "markdown",
   "metadata": {},
   "source": [
    "Special Functions\n",
    "import the random package from numpy\n",
    "generate a random number\n",
    "generate three random numbers in one-go"
   ]
  },
  {
   "cell_type": "code",
   "execution_count": 26,
   "metadata": {},
   "outputs": [
    {
     "name": "stdout",
     "output_type": "stream",
     "text": [
      "[ 0.73481208] [ 0.05377729  0.11815657  0.77835561]\n"
     ]
    }
   ],
   "source": [
    "from numpy import random\n",
    "print(np.random.random(1), np.random.random(3))"
   ]
  },
  {
   "cell_type": "code",
   "execution_count": null,
   "metadata": {},
   "outputs": [],
   "source": []
  }
 ],
 "metadata": {
  "kernelspec": {
   "display_name": "Python 3",
   "language": "python",
   "name": "python3"
  },
  "language_info": {
   "codemirror_mode": {
    "name": "ipython",
    "version": 3
   },
   "file_extension": ".py",
   "mimetype": "text/x-python",
   "name": "python",
   "nbconvert_exporter": "python",
   "pygments_lexer": "ipython3",
   "version": "3.6.4"
  }
 },
 "nbformat": 4,
 "nbformat_minor": 2
}
