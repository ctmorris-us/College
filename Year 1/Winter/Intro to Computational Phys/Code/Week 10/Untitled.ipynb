{
 "cells": [
  {
   "cell_type": "code",
   "execution_count": null,
   "metadata": {},
   "outputs": [],
   "source": [
    "import sys\n",
    "from math import *\n",
    "import matplotlib.pyplot as plt\n",
    "\n",
    "GM = 1.0\t\t\t\t# define units\n",
    "\n",
    "def acc(x, y):\n",
    "    # inverse-square law\n",
    "    r = sqrt(x*x+y*y)\n",
    "    return -GM*x/(r*r*r), -GM*y/(r*r*r) \t\t\n",
    "\n",
    "\n",
    "def take_a_step(x, y, vx, vy, t, dt):\n",
    "    # Predictor:\n",
    "    ax, ay = acc(x, y)\n",
    "\n",
    "    x  += vx*dt + 0.5*ax*dt*dt\n",
    "    y  += vy*dt + 0.5*ay*dt*dt\n",
    "    vx += ax*dt\n",
    "    vy += ay*dt\n",
    "    t  += dt\n",
    "\n",
    "    # Corrector:\n",
    "    ax1, ay1 = acc(x, y)\n",
    "\n",
    "    vx += 0.5*(ax1-ax)*dt\n",
    "    vy += 0.5*(ay1-ay)*dt\n",
    "\n",
    "    return x,y,vx,vy,t\n",
    "\n",
    "\n",
    "# Initialize the trajectory.\n",
    "t  = 0.0\n",
    "x  = 1.0\n",
    "y  = 0.0\n",
    "\n",
    "vx = 0.0\n",
    "vy = 1.0\t\t\t\t# default is circular orbit\n",
    "\n",
    "dt    = 0.01\n",
    "t_max = 50.0\n",
    "\n",
    "xplot = [x]\n",
    "yplot = [y]\n",
    "\n",
    "#print x, y, t\n",
    "\n",
    "while t < t_max:\n",
    "    (x,y,vx,vy,t) = take_a_step(x, y, vx, vy, t, dt)\n",
    "    #print x, y, t\n",
    "    xplot.append(x)\n",
    "    yplot.append(y)\n",
    "    \n",
    "plt.plot(xplot,yplot)\n",
    "plt.show()"
   ]
  }
 ],
 "metadata": {
  "kernelspec": {
   "display_name": "Python 3",
   "language": "python",
   "name": "python3"
  },
  "language_info": {
   "codemirror_mode": {
    "name": "ipython",
    "version": 3
   },
   "file_extension": ".py",
   "mimetype": "text/x-python",
   "name": "python",
   "nbconvert_exporter": "python",
   "pygments_lexer": "ipython3",
   "version": "3.6.4"
  }
 },
 "nbformat": 4,
 "nbformat_minor": 2
}
