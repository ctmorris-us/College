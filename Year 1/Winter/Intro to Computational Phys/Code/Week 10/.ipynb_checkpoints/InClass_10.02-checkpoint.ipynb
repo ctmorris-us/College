{
 "cells": [
  {
   "cell_type": "markdown",
   "metadata": {},
   "source": [
    "# PHYS 105: Computational Physics I\n",
    "### Spring 2018\n",
    "### In-Class Exercise 10.2"
   ]
  },
  {
   "cell_type": "markdown",
   "metadata": {},
   "source": [
    "## Variable Time Steps\n",
    "\n",
    "\n",
    "Lets now test another aspect of our computational setup. As we will see\n",
    "below, things start breaking down as our projectile gets closer to the \n",
    "center of the Earth. A solution is outlined below.\n",
    "\n",
    "\n",
    "  **Instructions**:\n",
    "\n",
    "* **Plot** the trajectories in each case as functions of\n",
    "time for $0 \\le t \\le 100$:\n",
    "  1. $r_0 = 1.0, v_0 = 0.5, \\delta t = 0.01$,\n",
    "  2. $r_0 = 1.0, v_0 = 0.3, \\delta t = 0.01$,\n",
    "  3. $r_0 = 1.0, v_0 = 0.3, \\delta t = 0.001$,\n",
    "\n",
    "* **How** do you account for the differences between the graphs?\n",
    "\n",
    "\n",
    "\n",
    "The problem of course is that the time step, which is fine at\n",
    "$r\\approx1$, begins to fail as the orbital separation $r$ decreases.\n",
    "\n",
    "There is nothing about the predictor--corrector scheme we have been using\n",
    "that requires us to keep the time step constant.\n",
    "One way to remedy accuracy problems is to allow the time step to vary in a manner\n",
    "dictated by the physics.  \n",
    "\n",
    "* **Repeat** the previous calculations, but this\n",
    "time choose the time step $\\delta t$ at the start of each step\n",
    "according to the rule\n",
    "\n",
    "$$\n",
    "  \t\\delta t = 0.01 r^{3/2}\\,.\n",
    "$$\n",
    "  \n",
    "Note that the scaling is the same as Kepler's third law.  \n",
    "\n",
    "Your results should show that there is an improvement in accuracy.  What happens to the\n",
    "orbit's precession?"
   ]
  }
 ],
 "metadata": {
  "kernelspec": {
   "display_name": "Python 2",
   "language": "python",
   "name": "python2"
  },
  "language_info": {
   "codemirror_mode": {
    "name": "ipython",
    "version": 2
   },
   "file_extension": ".py",
   "mimetype": "text/x-python",
   "name": "python",
   "nbconvert_exporter": "python",
   "pygments_lexer": "ipython2",
   "version": "2.7.15"
  }
 },
 "nbformat": 4,
 "nbformat_minor": 1
}
